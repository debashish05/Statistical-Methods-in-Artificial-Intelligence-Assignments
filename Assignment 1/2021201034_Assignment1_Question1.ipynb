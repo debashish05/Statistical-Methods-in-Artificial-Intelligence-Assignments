{
  "cells": [
    {
      "cell_type": "markdown",
      "id": "7b7992a1",
      "metadata": {
        "id": "7b7992a1"
      },
      "source": [
        "# Image Recommendation System via Collaborative Filtering"
      ]
    },
    {
      "cell_type": "markdown",
      "id": "bdbd69cd",
      "metadata": {
        "id": "bdbd69cd"
      },
      "source": [
        "# ***Please read the instructions very carefully***"
      ]
    },
    {
      "cell_type": "markdown",
      "id": "17602772",
      "metadata": {
        "id": "17602772"
      },
      "source": [
        "1.   Assignment must be implemented in Python 3 only.\n",
        "2.   You are allowed to use libraries for data preprocessing (numpy, pandas, nltk etc) and for evaluation metrics, data visualization (matplotlib etc.).\n",
        "3.   You will be evaluated not just on the overall performance of the model and also on the experimentation with hyper parameters, data prepossessing techniques etc.\n",
        "4.   ⚠️ The Assignment will be evaluated automatically. Please adhere to taking proper inputs from `config.csv` file. You can change your `config.csv` file to experiment with your code. But at the end, make sure that your outputs are corresponding to input values in `config.csv`\n",
        "5.   Strict plagiarism checking will be done. An F will be awarded for plagiarism."
      ]
    },
    {
      "cell_type": "markdown",
      "id": "3c9abf04",
      "metadata": {
        "id": "3c9abf04"
      },
      "source": [
        "## About the Dataset\n",
        "Behance is a community art website where users showcase and discover creative work. Each user is able to “appreciate” (equivalent to a “like” on Instagram or a “react” on Facebook) an image, indicating that they like the image. It is in the website’s best interests to show users pictures that they would like, to keep them engaged for longer. For this question, given a set of pictures that a user has already appreciated, you have to show them a new picture that they would like based on what similar users appreciated.\n",
        "\n",
        "\n",
        "<br><br>\n",
        "**The dataset has information of 1 million appreciates of 63,497 users on 178,788 items. The file Behance appreciate 1M has a triplet in each line in the form of (user id, item id, unix timestamp).**"
      ]
    },
    {
      "cell_type": "markdown",
      "id": "11f6eaf3",
      "metadata": {
        "id": "11f6eaf3"
      },
      "source": [
        "**Task: Take the inputs from the config.csv file and output the recommendations for a particular person**\n",
        "- Collaborative Filtering is a way to predict items to the user based on the the\n",
        "user’s history and the history of similar users. The similarity between users can be quantified by the number of images that both the users appreciated.\n",
        "- The images appreciated by a similar user would be the most suitable images to show a user. Since we can find the similarity between any two users, we would be able to find the “nearest” neighbours of any user, allowing us to use a KNN-based algorithm to recommend new images to a user.\n",
        "- Since people do not like seeing pictures that they have seen already. Make sure that you do not recommend pictures that a user has appreciated already.\n",
        "- Output the final response will be saved in the file named ```config['output_file']```.\n"
      ]
    },
    {
      "cell_type": "markdown",
      "id": "1c9a5e4f",
      "metadata": {
        "id": "1c9a5e4f"
      },
      "source": [
        "**Output file format:**\n",
        "Populate the output file with images that the user has not seen of the k most\n",
        "similar users, in descending order of their similarity. Each line in the output\n",
        "file should be a duplet in the form of (item id, user id), where the user id is the\n",
        "id of the kth similar user. The order of the images corresponding to the same\n",
        "similar user would not matter. The output file would look something like this:\n",
        "```\n",
        "item_id_1_of_1st_similar_user 1st_most_similar_user_id\n",
        "item_id_2_of_1st_similar_user 1st_most_similar_user_id\n",
        "item_id_3_of_1st_similar_user 1st_most_similar_user_id\n",
        "...\n",
        "item_id_1_of_2nd_similar_user 2nd_most_similar_user_id\n",
        "item_id_2_of_2nd_similar_user 2nd_most_similar_user_id\n",
        "item_id_3_of_2nd_similar_user 2nd_most_similar_user_id\n",
        "...\n",
        "item_id_1_of_kth_similar_user kth_most_similar_user_id\n",
        "item_id_2_of_kth_similar_user kth_most_similar_user_id\n",
        "item_id_3_of_kth_similar_user kth_most_similar_user_id\n",
        "```"
      ]
    },
    {
      "cell_type": "markdown",
      "id": "c6d0c592",
      "metadata": {
        "id": "c6d0c592"
      },
      "source": [
        "The dataset was extracted using Behance’s API as a part of the paper\n",
        "“Vista: A visually, socially, and temporally-aware model for artistic\n",
        "recommendation, RecSys, 2016”. Check out this [Google Drive folder](https://drive.google.com/drive/folders/0B9Ck8jw-TZUEc3NlMjVXdDlPU1k?resourcekey=0-6_8ykn0o4fLc5fuTEm91xA) for\n",
        "more information about the dataset.\n",
        "\n",
        "\n",
        "Have fun! The users are waiting to see new pictures!"
      ]
    },
    {
      "cell_type": "markdown",
      "id": "87b8072a",
      "metadata": {
        "id": "87b8072a"
      },
      "source": [
        "### Import necessary libraries"
      ]
    },
    {
      "cell_type": "code",
      "execution_count": 17,
      "id": "f153853d",
      "metadata": {
        "id": "f153853d"
      },
      "outputs": [],
      "source": [
        "import numpy as np\n",
        "import pandas as pd\n",
        "from sklearn.decomposition import TruncatedSVD\n",
        "from scipy.sparse import csr_matrix"
      ]
    },
    {
      "cell_type": "code",
      "execution_count": 18,
      "id": "41ac6337",
      "metadata": {
        "id": "41ac6337"
      },
      "outputs": [],
      "source": [
        "# Config Generation Sample Code.\n",
        "# ⚠️ Only for experimentation on your side.\n",
        "# ⚠️ Should be commented during submission.\n",
        "\n",
        "# df = pd.DataFrame(data=[{'id':276633,\n",
        "#                   'k':5,\n",
        "#                   'dataset_file':'./Behance_appreciate_1M',\n",
        "#                   'output_file':'./output.txt'}])\n",
        "# df.to_csv('config.csv')"
      ]
    },
    {
      "cell_type": "code",
      "execution_count": 19,
      "id": "7af3e999",
      "metadata": {
        "id": "7af3e999",
        "colab": {
          "base_uri": "https://localhost:8080/",
          "height": 382
        },
        "outputId": "9f082316-5c2c-448b-9f02-b040cdc749f2"
      },
      "outputs": [
        {
          "output_type": "error",
          "ename": "FileNotFoundError",
          "evalue": "ignored",
          "traceback": [
            "\u001b[0;31m---------------------------------------------------------------------------\u001b[0m",
            "\u001b[0;31mFileNotFoundError\u001b[0m                         Traceback (most recent call last)",
            "\u001b[0;32m<ipython-input-19-3f89e19b686c>\u001b[0m in \u001b[0;36m<module>\u001b[0;34m()\u001b[0m\n\u001b[0;32m----> 1\u001b[0;31m \u001b[0mconfig\u001b[0m \u001b[0;34m=\u001b[0m \u001b[0mpd\u001b[0m\u001b[0;34m.\u001b[0m\u001b[0mread_csv\u001b[0m\u001b[0;34m(\u001b[0m\u001b[0;34m'config.csv'\u001b[0m\u001b[0;34m)\u001b[0m\u001b[0;34m.\u001b[0m\u001b[0miloc\u001b[0m\u001b[0;34m[\u001b[0m\u001b[0;36m0\u001b[0m\u001b[0;34m]\u001b[0m\u001b[0;34m\u001b[0m\u001b[0;34m\u001b[0m\u001b[0m\n\u001b[0m",
            "\u001b[0;32m/usr/local/lib/python3.7/dist-packages/pandas/io/parsers.py\u001b[0m in \u001b[0;36mread_csv\u001b[0;34m(filepath_or_buffer, sep, delimiter, header, names, index_col, usecols, squeeze, prefix, mangle_dupe_cols, dtype, engine, converters, true_values, false_values, skipinitialspace, skiprows, skipfooter, nrows, na_values, keep_default_na, na_filter, verbose, skip_blank_lines, parse_dates, infer_datetime_format, keep_date_col, date_parser, dayfirst, cache_dates, iterator, chunksize, compression, thousands, decimal, lineterminator, quotechar, quoting, doublequote, escapechar, comment, encoding, dialect, error_bad_lines, warn_bad_lines, delim_whitespace, low_memory, memory_map, float_precision)\u001b[0m\n\u001b[1;32m    686\u001b[0m     )\n\u001b[1;32m    687\u001b[0m \u001b[0;34m\u001b[0m\u001b[0m\n\u001b[0;32m--> 688\u001b[0;31m     \u001b[0;32mreturn\u001b[0m \u001b[0m_read\u001b[0m\u001b[0;34m(\u001b[0m\u001b[0mfilepath_or_buffer\u001b[0m\u001b[0;34m,\u001b[0m \u001b[0mkwds\u001b[0m\u001b[0;34m)\u001b[0m\u001b[0;34m\u001b[0m\u001b[0;34m\u001b[0m\u001b[0m\n\u001b[0m\u001b[1;32m    689\u001b[0m \u001b[0;34m\u001b[0m\u001b[0m\n\u001b[1;32m    690\u001b[0m \u001b[0;34m\u001b[0m\u001b[0m\n",
            "\u001b[0;32m/usr/local/lib/python3.7/dist-packages/pandas/io/parsers.py\u001b[0m in \u001b[0;36m_read\u001b[0;34m(filepath_or_buffer, kwds)\u001b[0m\n\u001b[1;32m    452\u001b[0m \u001b[0;34m\u001b[0m\u001b[0m\n\u001b[1;32m    453\u001b[0m     \u001b[0;31m# Create the parser.\u001b[0m\u001b[0;34m\u001b[0m\u001b[0;34m\u001b[0m\u001b[0;34m\u001b[0m\u001b[0m\n\u001b[0;32m--> 454\u001b[0;31m     \u001b[0mparser\u001b[0m \u001b[0;34m=\u001b[0m \u001b[0mTextFileReader\u001b[0m\u001b[0;34m(\u001b[0m\u001b[0mfp_or_buf\u001b[0m\u001b[0;34m,\u001b[0m \u001b[0;34m**\u001b[0m\u001b[0mkwds\u001b[0m\u001b[0;34m)\u001b[0m\u001b[0;34m\u001b[0m\u001b[0;34m\u001b[0m\u001b[0m\n\u001b[0m\u001b[1;32m    455\u001b[0m \u001b[0;34m\u001b[0m\u001b[0m\n\u001b[1;32m    456\u001b[0m     \u001b[0;32mif\u001b[0m \u001b[0mchunksize\u001b[0m \u001b[0;32mor\u001b[0m \u001b[0miterator\u001b[0m\u001b[0;34m:\u001b[0m\u001b[0;34m\u001b[0m\u001b[0;34m\u001b[0m\u001b[0m\n",
            "\u001b[0;32m/usr/local/lib/python3.7/dist-packages/pandas/io/parsers.py\u001b[0m in \u001b[0;36m__init__\u001b[0;34m(self, f, engine, **kwds)\u001b[0m\n\u001b[1;32m    946\u001b[0m             \u001b[0mself\u001b[0m\u001b[0;34m.\u001b[0m\u001b[0moptions\u001b[0m\u001b[0;34m[\u001b[0m\u001b[0;34m\"has_index_names\"\u001b[0m\u001b[0;34m]\u001b[0m \u001b[0;34m=\u001b[0m \u001b[0mkwds\u001b[0m\u001b[0;34m[\u001b[0m\u001b[0;34m\"has_index_names\"\u001b[0m\u001b[0;34m]\u001b[0m\u001b[0;34m\u001b[0m\u001b[0;34m\u001b[0m\u001b[0m\n\u001b[1;32m    947\u001b[0m \u001b[0;34m\u001b[0m\u001b[0m\n\u001b[0;32m--> 948\u001b[0;31m         \u001b[0mself\u001b[0m\u001b[0;34m.\u001b[0m\u001b[0m_make_engine\u001b[0m\u001b[0;34m(\u001b[0m\u001b[0mself\u001b[0m\u001b[0;34m.\u001b[0m\u001b[0mengine\u001b[0m\u001b[0;34m)\u001b[0m\u001b[0;34m\u001b[0m\u001b[0;34m\u001b[0m\u001b[0m\n\u001b[0m\u001b[1;32m    949\u001b[0m \u001b[0;34m\u001b[0m\u001b[0m\n\u001b[1;32m    950\u001b[0m     \u001b[0;32mdef\u001b[0m \u001b[0mclose\u001b[0m\u001b[0;34m(\u001b[0m\u001b[0mself\u001b[0m\u001b[0;34m)\u001b[0m\u001b[0;34m:\u001b[0m\u001b[0;34m\u001b[0m\u001b[0;34m\u001b[0m\u001b[0m\n",
            "\u001b[0;32m/usr/local/lib/python3.7/dist-packages/pandas/io/parsers.py\u001b[0m in \u001b[0;36m_make_engine\u001b[0;34m(self, engine)\u001b[0m\n\u001b[1;32m   1178\u001b[0m     \u001b[0;32mdef\u001b[0m \u001b[0m_make_engine\u001b[0m\u001b[0;34m(\u001b[0m\u001b[0mself\u001b[0m\u001b[0;34m,\u001b[0m \u001b[0mengine\u001b[0m\u001b[0;34m=\u001b[0m\u001b[0;34m\"c\"\u001b[0m\u001b[0;34m)\u001b[0m\u001b[0;34m:\u001b[0m\u001b[0;34m\u001b[0m\u001b[0;34m\u001b[0m\u001b[0m\n\u001b[1;32m   1179\u001b[0m         \u001b[0;32mif\u001b[0m \u001b[0mengine\u001b[0m \u001b[0;34m==\u001b[0m \u001b[0;34m\"c\"\u001b[0m\u001b[0;34m:\u001b[0m\u001b[0;34m\u001b[0m\u001b[0;34m\u001b[0m\u001b[0m\n\u001b[0;32m-> 1180\u001b[0;31m             \u001b[0mself\u001b[0m\u001b[0;34m.\u001b[0m\u001b[0m_engine\u001b[0m \u001b[0;34m=\u001b[0m \u001b[0mCParserWrapper\u001b[0m\u001b[0;34m(\u001b[0m\u001b[0mself\u001b[0m\u001b[0;34m.\u001b[0m\u001b[0mf\u001b[0m\u001b[0;34m,\u001b[0m \u001b[0;34m**\u001b[0m\u001b[0mself\u001b[0m\u001b[0;34m.\u001b[0m\u001b[0moptions\u001b[0m\u001b[0;34m)\u001b[0m\u001b[0;34m\u001b[0m\u001b[0;34m\u001b[0m\u001b[0m\n\u001b[0m\u001b[1;32m   1181\u001b[0m         \u001b[0;32melse\u001b[0m\u001b[0;34m:\u001b[0m\u001b[0;34m\u001b[0m\u001b[0;34m\u001b[0m\u001b[0m\n\u001b[1;32m   1182\u001b[0m             \u001b[0;32mif\u001b[0m \u001b[0mengine\u001b[0m \u001b[0;34m==\u001b[0m \u001b[0;34m\"python\"\u001b[0m\u001b[0;34m:\u001b[0m\u001b[0;34m\u001b[0m\u001b[0;34m\u001b[0m\u001b[0m\n",
            "\u001b[0;32m/usr/local/lib/python3.7/dist-packages/pandas/io/parsers.py\u001b[0m in \u001b[0;36m__init__\u001b[0;34m(self, src, **kwds)\u001b[0m\n\u001b[1;32m   2008\u001b[0m         \u001b[0mkwds\u001b[0m\u001b[0;34m[\u001b[0m\u001b[0;34m\"usecols\"\u001b[0m\u001b[0;34m]\u001b[0m \u001b[0;34m=\u001b[0m \u001b[0mself\u001b[0m\u001b[0;34m.\u001b[0m\u001b[0musecols\u001b[0m\u001b[0;34m\u001b[0m\u001b[0;34m\u001b[0m\u001b[0m\n\u001b[1;32m   2009\u001b[0m \u001b[0;34m\u001b[0m\u001b[0m\n\u001b[0;32m-> 2010\u001b[0;31m         \u001b[0mself\u001b[0m\u001b[0;34m.\u001b[0m\u001b[0m_reader\u001b[0m \u001b[0;34m=\u001b[0m \u001b[0mparsers\u001b[0m\u001b[0;34m.\u001b[0m\u001b[0mTextReader\u001b[0m\u001b[0;34m(\u001b[0m\u001b[0msrc\u001b[0m\u001b[0;34m,\u001b[0m \u001b[0;34m**\u001b[0m\u001b[0mkwds\u001b[0m\u001b[0;34m)\u001b[0m\u001b[0;34m\u001b[0m\u001b[0;34m\u001b[0m\u001b[0m\n\u001b[0m\u001b[1;32m   2011\u001b[0m         \u001b[0mself\u001b[0m\u001b[0;34m.\u001b[0m\u001b[0munnamed_cols\u001b[0m \u001b[0;34m=\u001b[0m \u001b[0mself\u001b[0m\u001b[0;34m.\u001b[0m\u001b[0m_reader\u001b[0m\u001b[0;34m.\u001b[0m\u001b[0munnamed_cols\u001b[0m\u001b[0;34m\u001b[0m\u001b[0;34m\u001b[0m\u001b[0m\n\u001b[1;32m   2012\u001b[0m \u001b[0;34m\u001b[0m\u001b[0m\n",
            "\u001b[0;32mpandas/_libs/parsers.pyx\u001b[0m in \u001b[0;36mpandas._libs.parsers.TextReader.__cinit__\u001b[0;34m()\u001b[0m\n",
            "\u001b[0;32mpandas/_libs/parsers.pyx\u001b[0m in \u001b[0;36mpandas._libs.parsers.TextReader._setup_parser_source\u001b[0;34m()\u001b[0m\n",
            "\u001b[0;31mFileNotFoundError\u001b[0m: [Errno 2] No such file or directory: 'config.csv'"
          ]
        }
      ],
      "source": [
        "config = pd.read_csv('config.csv').iloc[0]"
      ]
    },
    {
      "cell_type": "code",
      "execution_count": null,
      "id": "829d0147",
      "metadata": {
        "id": "829d0147"
      },
      "outputs": [],
      "source": [
        "config"
      ]
    },
    {
      "cell_type": "code",
      "execution_count": null,
      "id": "f4d09c27",
      "metadata": {
        "id": "f4d09c27"
      },
      "outputs": [],
      "source": [
        "targetUser = config['id']\n",
        "k_value = config['k']"
      ]
    },
    {
      "cell_type": "markdown",
      "id": "10935090",
      "metadata": {
        "id": "10935090"
      },
      "source": [
        "### Read the Data"
      ]
    },
    {
      "cell_type": "code",
      "execution_count": null,
      "id": "5bbba85a",
      "metadata": {
        "id": "5bbba85a"
      },
      "outputs": [],
      "source": [
        "with open(config['dataset_file'], 'r') as inFile:\n",
        "    appreciate_data = inFile.readlines()"
      ]
    },
    {
      "cell_type": "markdown",
      "id": "99512e25",
      "metadata": {
        "id": "99512e25"
      },
      "source": [
        "### Initialize a dictionary to store the item_ids that a user likes\n",
        "\n",
        "### Go through each line of the input file and construct the user_likes dictionary"
      ]
    },
    {
      "cell_type": "code",
      "execution_count": null,
      "id": "80a539f1",
      "metadata": {
        "id": "80a539f1"
      },
      "outputs": [],
      "source": [
        "user_likes = dict()\n",
        "\n",
        "for line in appreciate_data:\n",
        "    line = line.strip()\n",
        "    \n",
        "    user_id = int(line.split()[0])\n",
        "    item_id = int(line.split()[1])\n",
        "\n",
        "    if user_id not in user_likes:\n",
        "        user_likes[user_id] = list()\n",
        "    \n",
        "    user_likes[user_id].append(item_id)"
      ]
    },
    {
      "cell_type": "markdown",
      "source": [
        "**Mapping of user ID to  new User ID, such that we can fit the data in a matrix representation format.**"
      ],
      "metadata": {
        "id": "R4Ynw290GsnS"
      },
      "id": "R4Ynw290GsnS"
    },
    {
      "cell_type": "code",
      "execution_count": null,
      "id": "c0266e01",
      "metadata": {
        "id": "c0266e01"
      },
      "outputs": [],
      "source": [
        "userName={}       # org. Id to New ID (starts from 0)\n",
        "userID={}         # New ID to org. id\n",
        "\n",
        "count=0\n",
        "for line in appreciate_data:\n",
        "  line = line.strip()  \n",
        "  user_id = int(line.split()[0])\n",
        "\n",
        "  if user_id not in userName:\n",
        "    userName[user_id]=count\n",
        "    userID[count]=user_id\n",
        "    count+=1\n",
        "\n",
        "print(\"Number of unique users: \",len(userName))"
      ]
    },
    {
      "cell_type": "markdown",
      "source": [
        "**Mapping of image ID to  new image ID, such that we can fit the data in a matrix representation format.**"
      ],
      "metadata": {
        "id": "q0sr5qjqG6YI"
      },
      "id": "q0sr5qjqG6YI"
    },
    {
      "cell_type": "code",
      "source": [
        "imageName={}       # Id to userName (starts from 0)\n",
        "imageID={}         # userName to user id\n",
        "\n",
        "count=0\n",
        "for line in appreciate_data:\n",
        "  line = line.strip()  \n",
        "  image_id = int(line.split()[1])\n",
        "\n",
        "  if image_id not in imageName:\n",
        "    imageName[image_id]=count\n",
        "    imageID[count]=image_id\n",
        "    count+=1\n",
        "\n",
        "print(\"Number of unique images: \",len(imageName))"
      ],
      "metadata": {
        "id": "HjWme5_qxe0z"
      },
      "id": "HjWme5_qxe0z",
      "execution_count": null,
      "outputs": []
    },
    {
      "cell_type": "markdown",
      "source": [
        "**Created tuples in order to create a sparse matrix.**"
      ],
      "metadata": {
        "id": "TBUMo_1jHWti"
      },
      "id": "TBUMo_1jHWti"
    },
    {
      "cell_type": "code",
      "source": [
        "user=[]\n",
        "image=[]\n",
        "value=[]\n",
        "\n",
        "for line in appreciate_data:\n",
        "  line = line.strip()  \n",
        "  user_id = userName[int(line.split()[0])]\n",
        "  image_id = imageName[int(line.split()[1])]\n",
        "\n",
        "  user.append(user_id)\n",
        "  image.append(image_id)\n",
        "  value.append(1)\n",
        "\n",
        "print(\"Number of entries in the matrix\",len(value))"
      ],
      "metadata": {
        "id": "9_BYmvk4yWwJ"
      },
      "id": "9_BYmvk4yWwJ",
      "execution_count": null,
      "outputs": []
    },
    {
      "cell_type": "markdown",
      "source": [
        "**Single Value decomposition using CSR Matrix.**"
      ],
      "metadata": {
        "id": "0Gv5scnpHkaJ"
      },
      "id": "0Gv5scnpHkaJ"
    },
    {
      "cell_type": "code",
      "source": [
        "sparseMatrix = csr_matrix((value, (user,image)))\n",
        "svdMatrix =TruncatedSVD(n_components=1000)\n",
        "matrix = svdMatrix.fit_transform(sparseMatrix)"
      ],
      "metadata": {
        "id": "HCy9aEae0obf"
      },
      "id": "HCy9aEae0obf",
      "execution_count": null,
      "outputs": []
    },
    {
      "cell_type": "markdown",
      "id": "9e199965",
      "metadata": {
        "id": "9e199965"
      },
      "source": [
        "### Use KNN after Collaborative Filtering to find nearest neighbors"
      ]
    },
    {
      "cell_type": "code",
      "source": [
        "def cosineSimilarity(a,b):\n",
        "    return np.dot(b,a)/(np.linalg.norm(b)*np.linalg.norm(a))\n",
        "\n",
        "def neighbors(user,k_value):\n",
        "  \"\"\" returns an iterable object (like list or generator) \"\"\"\n",
        "  score={}  # user id and corresponding score\n",
        "  recommendation=[]\n",
        "\n",
        "  if user not in userName:\n",
        "    return recommendation\n",
        "\n",
        "  outputUser=userName[user]     # new index for the targeted user\n",
        "  \n",
        "\n",
        "  for i in range(len(matrix)):\n",
        "\n",
        "    if i == outputUser:\n",
        "      continue\n",
        "  \n",
        "    score[i]=cosineSimilarity(matrix[i],matrix[outputUser])\n",
        "\n",
        "  score = dict(sorted(score.items(), key=lambda item: item[1],reverse=True))\n",
        "\n",
        "  for key,value in score.items():\n",
        "\n",
        "    diff=[]\n",
        "    for element in user_likes[userID[key]]:\n",
        "      if element not in user_likes[targetUser]:\n",
        "        diff.append(element)\n",
        "    \n",
        "    if k_value==0:\n",
        "      break\n",
        "    \n",
        "    if(len(diff)):\n",
        "      k_value-=1\n",
        "      recommendation.append([userID[key],diff])\n",
        "\n",
        "  return recommendation\n"
      ],
      "metadata": {
        "id": "HNaRcQa63DNa"
      },
      "id": "HNaRcQa63DNa",
      "execution_count": null,
      "outputs": []
    },
    {
      "cell_type": "markdown",
      "id": "892c395b",
      "metadata": {
        "id": "892c395b"
      },
      "source": [
        "### Open the output file to write all the lines to the file"
      ]
    },
    {
      "cell_type": "code",
      "execution_count": null,
      "id": "428708d5",
      "metadata": {
        "id": "428708d5"
      },
      "outputs": [],
      "source": [
        "outFile = open(config['output_file'], 'w')\n",
        "\n",
        "for n_user,items in neighbors(targetUser,k_value):\n",
        "    for item_id in items:\n",
        "        outFile.write(str(item_id) + ' ' + str(n_user) + '\\n')\n",
        "\n",
        "outFile.close()"
      ]
    }
  ],
  "metadata": {
    "kernelspec": {
      "display_name": "Python 3",
      "language": "python",
      "name": "python3"
    },
    "language_info": {
      "codemirror_mode": {
        "name": "ipython",
        "version": 3
      },
      "file_extension": ".py",
      "mimetype": "text/x-python",
      "name": "python",
      "nbconvert_exporter": "python",
      "pygments_lexer": "ipython3",
      "version": "3.8.10"
    },
    "colab": {
      "name": "2021201034_Assignment1_Question1.ipynb",
      "provenance": []
    }
  },
  "nbformat": 4,
  "nbformat_minor": 5
}