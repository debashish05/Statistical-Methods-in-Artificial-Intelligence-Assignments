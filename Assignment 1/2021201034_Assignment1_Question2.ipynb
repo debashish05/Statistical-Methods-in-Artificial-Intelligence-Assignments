{
  "cells": [
    {
      "cell_type": "markdown",
      "id": "866ed254",
      "metadata": {
        "id": "866ed254"
      },
      "source": [
        "# Approximate Nearest Neighbors:\n",
        "\n",
        "# Image Recommendation System via Collaborative Filtering"
      ]
    },
    {
      "cell_type": "markdown",
      "id": "2e08937a",
      "metadata": {
        "id": "2e08937a"
      },
      "source": [
        "# ***Please read the instructions very carefully***\n",
        "This is a modified version of the previous question and requires you to use an artificial nearest neighbors library\n",
        "\n",
        "We suggest you to use one of the following:\n",
        "- [ScaNN](https://github.com/google-research/google-research/tree/master/scann)\n",
        "- [FAISS](https://github.com/facebookresearch/faiss)\n",
        "- [Annoy](https://github.com/spotify/annoy.git)"
      ]
    },
    {
      "cell_type": "markdown",
      "id": "489a4212",
      "metadata": {
        "id": "489a4212"
      },
      "source": [
        "1.   Assignment must be implemented in Python 3 only.\n",
        "2.   You are allowed to use libraries for data preprocessing (numpy, pandas, nltk etc) and for evaluation metrics, data visualization (matplotlib etc.).\n",
        "3.   You will be evaluated not just on the overall performance of the model and also on the experimentation with hyper parameters, data prepossessing techniques etc.\n",
        "4.   ⚠️ The Assignment will be evaluated automatically. Please adhere to taking proper inputs from `config.csv` file. You can change your `config.csv` file to experiment with your code. But at the end, make sure that your outputs are corresponding to input values in `config.csv`\n",
        "5.   Strict plagiarism checking will be done. An F will be awarded for plagiarism."
      ]
    },
    {
      "cell_type": "markdown",
      "id": "f494560c",
      "metadata": {
        "id": "f494560c"
      },
      "source": [
        "## About the Dataset\n",
        "Behance is a community art website where users showcase and discover creative work. Each user is able to “appreciate” (equivalent to a “like” on Instagram or a “react” on Facebook) an image, indicating that they like the image. It is in the website’s best interests to show users pictures that they would like, to keep them engaged for longer. For this question, given a set of pictures that a user has already appreciated, you have to show them a new picture that they would like based on what similar users appreciated.\n",
        "\n",
        "\n",
        "<br><br>\n",
        "**The dataset has information of 1 million appreciates of 63,497 users on 178,788 items. The file Behance appreciate 1M has a triplet in each line in the form of (user id, item id, unix timestamp).**"
      ]
    },
    {
      "cell_type": "markdown",
      "id": "d8dd3f15",
      "metadata": {
        "id": "d8dd3f15"
      },
      "source": [
        "**Task: Take the inputs from the config.csv file and output the recommendations for a particular person**\n",
        "- Collaborative Filtering is a way to predict items to the user based on the the\n",
        "user’s history and the history of similar users. The similarity between users can be quantified by the number of images that both the users appreciated.\n",
        "- The images appreciated by a similar user would be the most suitable images to show a user. Since we can find the similarity between any two users, we would be able to find the “nearest” neighbours of any user, allowing us to use a KNN-based algorithm to recommend new images to a user.\n",
        "- Since people do not like seeing pictures that they have seen already. Make sure that you do not recommend pictures that a user has appreciated already.\n",
        "- Output the final response will be saved in the file named ```config['output_file']```.\n"
      ]
    },
    {
      "cell_type": "markdown",
      "id": "68a52fe5",
      "metadata": {
        "id": "68a52fe5"
      },
      "source": [
        "**Output file format:**\n",
        "Populate the output file with images that the user has not seen of the k most\n",
        "similar users, in descending order of their similarity. Each line in the output\n",
        "file should be a duplet in the form of (item id, user id), where the user id is the\n",
        "id of the kth similar user. The order of the images corresponding to the same\n",
        "similar user would not matter. The output file would look something like this:\n",
        "```\n",
        "item_id_1_of_1st_similar_user 1st_most_similar_user_id\n",
        "item_id_2_of_1st_similar_user 1st_most_similar_user_id\n",
        "item_id_3_of_1st_similar_user 1st_most_similar_user_id\n",
        "...\n",
        "item_id_1_of_2nd_similar_user 2nd_most_similar_user_id\n",
        "item_id_2_of_2nd_similar_user 2nd_most_similar_user_id\n",
        "item_id_3_of_2nd_similar_user 2nd_most_similar_user_id\n",
        "...\n",
        "item_id_1_of_kth_similar_user kth_most_similar_user_id\n",
        "item_id_2_of_kth_similar_user kth_most_similar_user_id\n",
        "item_id_3_of_kth_similar_user kth_most_similar_user_id\n",
        "```"
      ]
    },
    {
      "cell_type": "markdown",
      "id": "26d46fd2",
      "metadata": {
        "id": "26d46fd2"
      },
      "source": [
        "You may use any other recommendation system that you wish to use. However,\n",
        "evaluation script will score your submission by measuring the similarity between\n",
        "users with the number of common images they appreciated.\n",
        "The dataset was extracted using Behance’s API as a part of the paper\n",
        "“Vista: A visually, socially, and temporally-aware model for artistic\n",
        "recommendation, RecSys, 2016”. Check out this [Google Drive folder](https://drive.google.com/drive/folders/0B9Ck8jw-TZUEc3NlMjVXdDlPU1k?resourcekey=0-6_8ykn0o4fLc5fuTEm91xA) for\n",
        "more information about the dataset.\n",
        "\n",
        "\n",
        "Have fun! The users are waiting to see new pictures!"
      ]
    },
    {
      "cell_type": "markdown",
      "id": "912088cf",
      "metadata": {
        "id": "912088cf"
      },
      "source": [
        "### Import necessary libraries"
      ]
    },
    {
      "cell_type": "code",
      "execution_count": 4,
      "id": "13e9cbe3",
      "metadata": {
        "colab": {
          "base_uri": "https://localhost:8080/"
        },
        "id": "13e9cbe3",
        "outputId": "28b1c2b3-530c-4826-bc92-ed6d01f539ac"
      },
      "outputs": [
        {
          "output_type": "stream",
          "name": "stdout",
          "text": [
            "Reading package lists... Done\n",
            "Building dependency tree       \n",
            "Reading state information... Done\n",
            "libomp-dev is already the newest version (5.0.1-1).\n",
            "0 upgraded, 0 newly installed, 0 to remove and 37 not upgraded.\n",
            "Requirement already satisfied: faiss in /usr/local/lib/python3.7/dist-packages (1.5.3)\n",
            "Requirement already satisfied: numpy in /usr/local/lib/python3.7/dist-packages (from faiss) (1.19.5)\n"
          ]
        }
      ],
      "source": [
        "import numpy as np\n",
        "import pandas as pd\n",
        "from sklearn.decomposition import TruncatedSVD\n",
        "from scipy.sparse import csr_matrix\n",
        "!apt install libomp-dev\n",
        "!pip install faiss\n",
        "import faiss"
      ]
    },
    {
      "cell_type": "code",
      "execution_count": 5,
      "id": "0c9c4cd1",
      "metadata": {
        "id": "0c9c4cd1"
      },
      "outputs": [],
      "source": [
        "# Config Generation Sample Code.\n",
        "# ⚠️ Only for experimentation on your side.\n",
        "# ⚠️ Should be commented during submission.\n",
        "\n",
        "# df = pd.DataFrame(data=[{'id':276633,\n",
        "#                   'k':5,\n",
        "#                   'dataset_file':'./Behance_appreciate_1M',\n",
        "#                   'output_file':'./output.txt'}])\n",
        "# df.to_csv('config.csv')"
      ]
    },
    {
      "cell_type": "code",
      "execution_count": 6,
      "id": "cb6bc1ff",
      "metadata": {
        "id": "cb6bc1ff"
      },
      "outputs": [],
      "source": [
        "config = pd.read_csv('config.csv').iloc[0]"
      ]
    },
    {
      "cell_type": "code",
      "execution_count": 7,
      "id": "ef721d6b",
      "metadata": {
        "colab": {
          "base_uri": "https://localhost:8080/"
        },
        "id": "ef721d6b",
        "outputId": "6b51af20-5e19-4d38-da93-d33138bb1929"
      },
      "outputs": [
        {
          "output_type": "execute_result",
          "data": {
            "text/plain": [
              "Unnamed: 0                            0\n",
              "id                               276633\n",
              "k                                     5\n",
              "dataset_file    ./Behance_appreciate_1M\n",
              "output_file                ./output.txt\n",
              "Name: 0, dtype: object"
            ]
          },
          "metadata": {},
          "execution_count": 7
        }
      ],
      "source": [
        "config"
      ]
    },
    {
      "cell_type": "code",
      "execution_count": 8,
      "id": "4966a889",
      "metadata": {
        "id": "4966a889"
      },
      "outputs": [],
      "source": [
        "targetUser = config['id']\n",
        "k_value = config['k']"
      ]
    },
    {
      "cell_type": "markdown",
      "id": "e8e50dee",
      "metadata": {
        "id": "e8e50dee"
      },
      "source": [
        "### Read the Data"
      ]
    },
    {
      "cell_type": "code",
      "execution_count": 9,
      "id": "cd74173b",
      "metadata": {
        "id": "cd74173b"
      },
      "outputs": [],
      "source": [
        "with open(config['dataset_file'], 'r') as inFile:\n",
        "    appreciate_data = inFile.readlines()"
      ]
    },
    {
      "cell_type": "markdown",
      "id": "e09e9961",
      "metadata": {
        "id": "e09e9961"
      },
      "source": [
        "### Initialize a dictionary to store the item_ids that a user likes\n",
        "\n",
        "### Go through each line of the input file and construct the user_likes dictionary"
      ]
    },
    {
      "cell_type": "code",
      "execution_count": 10,
      "id": "8ff4a80d",
      "metadata": {
        "id": "8ff4a80d"
      },
      "outputs": [],
      "source": [
        "user_likes = dict()"
      ]
    },
    {
      "cell_type": "code",
      "execution_count": 11,
      "id": "5b55dc0b",
      "metadata": {
        "id": "5b55dc0b"
      },
      "outputs": [],
      "source": [
        "for line in appreciate_data:\n",
        "    line = line.strip()\n",
        "    \n",
        "    user_id = int(line.split()[0])\n",
        "    item_id = int(line.split()[1])\n",
        "\n",
        "    if user_id not in user_likes:\n",
        "        user_likes[user_id] = list()\n",
        "    \n",
        "    user_likes[user_id].append(item_id)"
      ]
    },
    {
      "cell_type": "markdown",
      "source": [
        "**Mapping of user ID to new User ID, such that we can fit the data in a matrix representation format.**"
      ],
      "metadata": {
        "id": "yXwCr1giYQNp"
      },
      "id": "yXwCr1giYQNp"
    },
    {
      "cell_type": "code",
      "source": [
        "userName={}       # org. Id to New ID (starts from 0)\n",
        "userID={}         # New ID to org. id\n",
        "\n",
        "count=0\n",
        "for line in appreciate_data:\n",
        "  line = line.strip()  \n",
        "  user_id = int(line.split()[0])\n",
        "\n",
        "  if user_id not in userName:\n",
        "    userName[user_id]=count\n",
        "    userID[count]=user_id\n",
        "    count+=1\n",
        "\n",
        "print(\"Number of unique users: \",len(userName))"
      ],
      "metadata": {
        "colab": {
          "base_uri": "https://localhost:8080/"
        },
        "id": "t-m0ads4XtuX",
        "outputId": "ea4f96cb-378b-4afe-c0f4-8b182d034834"
      },
      "id": "t-m0ads4XtuX",
      "execution_count": 12,
      "outputs": [
        {
          "output_type": "stream",
          "name": "stdout",
          "text": [
            "Number of unique users:  63497\n"
          ]
        }
      ]
    },
    {
      "cell_type": "markdown",
      "source": [
        "**Mapping of image ID to new image ID, such that we can fit the data in a matrix representation format.**"
      ],
      "metadata": {
        "id": "hl-XS8NNYWvm"
      },
      "id": "hl-XS8NNYWvm"
    },
    {
      "cell_type": "code",
      "source": [
        "imageName={}       # Id to userName (starts from 0)\n",
        "imageID={}         # userName to user id\n",
        "\n",
        "count=0\n",
        "for line in appreciate_data:\n",
        "  line = line.strip()  \n",
        "  image_id = int(line.split()[1])\n",
        "\n",
        "  if image_id not in imageName:\n",
        "    imageName[image_id]=count\n",
        "    imageID[count]=image_id\n",
        "    count+=1\n",
        "\n",
        "print(\"Number of unique images: \",len(imageName))"
      ],
      "metadata": {
        "colab": {
          "base_uri": "https://localhost:8080/"
        },
        "id": "-QgRNz-lYbsQ",
        "outputId": "bf0b5d51-2a42-4588-f13a-eb2acfebb883"
      },
      "id": "-QgRNz-lYbsQ",
      "execution_count": 13,
      "outputs": [
        {
          "output_type": "stream",
          "name": "stdout",
          "text": [
            "Number of unique images:  178788\n"
          ]
        }
      ]
    },
    {
      "cell_type": "markdown",
      "source": [
        "**Created tuples in order to create a sparse matrix.**"
      ],
      "metadata": {
        "id": "VZWcwiXBYmlJ"
      },
      "id": "VZWcwiXBYmlJ"
    },
    {
      "cell_type": "code",
      "source": [
        "user=[]\n",
        "image=[]\n",
        "value=[]\n",
        "\n",
        "for line in appreciate_data:\n",
        "  line = line.strip()  \n",
        "  user_id = userName[int(line.split()[0])]\n",
        "  image_id = imageName[int(line.split()[1])]\n",
        "\n",
        "  user.append(user_id)\n",
        "  image.append(image_id)\n",
        "  value.append(1)\n",
        "\n",
        "print(\"Number of entries in the matrix\",len(value))"
      ],
      "metadata": {
        "colab": {
          "base_uri": "https://localhost:8080/"
        },
        "id": "ik3EDQEoYqlG",
        "outputId": "78d4634b-586b-4bf9-8fea-69976f5ac835"
      },
      "id": "ik3EDQEoYqlG",
      "execution_count": 14,
      "outputs": [
        {
          "output_type": "stream",
          "name": "stdout",
          "text": [
            "Number of entries in the matrix 1000000\n"
          ]
        }
      ]
    },
    {
      "cell_type": "markdown",
      "source": [
        "**Single Value decomposition using CSR Matrix.**"
      ],
      "metadata": {
        "id": "tc6_9ERoYtL3"
      },
      "id": "tc6_9ERoYtL3"
    },
    {
      "cell_type": "code",
      "source": [
        "sparseMatrix = csr_matrix((value, (user,image)))\n",
        "svdMatrix =TruncatedSVD(n_components=1000)\n",
        "matrix = svdMatrix.fit_transform(sparseMatrix)"
      ],
      "metadata": {
        "id": "xV4npA7mY2dS"
      },
      "id": "xV4npA7mY2dS",
      "execution_count": 15,
      "outputs": []
    },
    {
      "cell_type": "markdown",
      "id": "cd017880",
      "metadata": {
        "id": "cd017880"
      },
      "source": [
        "### Use your choice of Approximate Nearest Neigbor after Collaborative Filtering to find nearest neighbors"
      ]
    },
    {
      "cell_type": "code",
      "source": [
        "maxImage=0\n",
        "for i in user_likes:\n",
        "  if(len(user_likes[i])>maxImage):\n",
        "    maxImage=len(user_likes[i])\n",
        "print(maxImage)"
      ],
      "metadata": {
        "colab": {
          "base_uri": "https://localhost:8080/"
        },
        "id": "en1cr7MMbhRl",
        "outputId": "628d758d-9dd8-4bf0-8801-a17a6fa2fe1f"
      },
      "id": "en1cr7MMbhRl",
      "execution_count": 16,
      "outputs": [
        {
          "output_type": "stream",
          "name": "stdout",
          "text": [
            "2260\n"
          ]
        }
      ]
    },
    {
      "cell_type": "code",
      "execution_count": 17,
      "id": "5ee1d377",
      "metadata": {
        "colab": {
          "base_uri": "https://localhost:8080/"
        },
        "id": "5ee1d377",
        "outputId": "80e401ac-1157-43e3-de60-3019115c6a71"
      },
      "outputs": [
        {
          "output_type": "stream",
          "name": "stdout",
          "text": [
            "[[    0 16071 20559 ...  6850 35455 35725]\n",
            " [    1   988   779 ... 11057  2347 19745]\n",
            " [    2 28306  5258 ... 25397 48982 46094]\n",
            " ...\n",
            " [63484  7385 63483 ...  3548 17659  2983]\n",
            " [63495 39801 39334 ... 23170 19943 38754]\n",
            " [63496 33929 61676 ... 14945 23247 26139]]\n"
          ]
        }
      ],
      "source": [
        "index = faiss.IndexFlatL2(len(matrix[0]))\n",
        "index.add(np.asarray(matrix).astype('float32'))\n",
        "D,I = index.search(np.asarray(matrix).astype('float32'),maxImage+1)\n",
        "print(I)"
      ]
    },
    {
      "cell_type": "code",
      "source": [
        "\n",
        "def neighbors(user,k_value):\n",
        "  \"\"\" returns an iterable object (like list or generator) \"\"\"\n",
        "  score={}  # user id and corresponding score\n",
        "  recommendation=[]\n",
        "\n",
        "  if user not in userName:\n",
        "    return recommendation\n",
        "\n",
        "  outputUser=userName[user]     # new index for the targeted user\n",
        "\n",
        "  recommendation=[]\n",
        "\n",
        "  for usersN in I[outputUser]:\n",
        "\n",
        "    diff=[]\n",
        "\n",
        "    if usersN == outputUser:\n",
        "      continue\n",
        "\n",
        "    for element in user_likes[userID[usersN]]:\n",
        "      if element not in user_likes[targetUser]:\n",
        "        diff.append(element)\n",
        "    \n",
        "    if k_value==0:\n",
        "      break\n",
        "    \n",
        "    if(len(diff)):\n",
        "      k_value-=1\n",
        "      recommendation.append([userID[usersN],diff])\n",
        "\n",
        "  return recommendation"
      ],
      "metadata": {
        "id": "QDZAewcpeA0o"
      },
      "id": "QDZAewcpeA0o",
      "execution_count": 18,
      "outputs": []
    },
    {
      "cell_type": "markdown",
      "id": "0b6f24d6",
      "metadata": {
        "id": "0b6f24d6"
      },
      "source": [
        "### Answer the following questions:"
      ]
    },
    {
      "cell_type": "markdown",
      "id": "012f72f8",
      "metadata": {
        "id": "012f72f8"
      },
      "source": [
        "#### Q1. **Explain how your choice of library works**\n",
        "\n",
        "*Faiss is used for efficient searching of similarity among several vectors. In my implementation I have usesd its euclidian distance version. Since the entries are not very large 1M it gives result very fast. The matrix is compressed for training. FAISS uses multithreading, so it can work really fast with GPU and can outperform other algorithms. It uses concenpt of centeroid and parallel merge. Unforutantely I am not able to go in depth to understand this. It uses max heap to store the k neighbour.*"
      ]
    },
    {
      "cell_type": "markdown",
      "id": "3b0ac14b",
      "metadata": {
        "id": "3b0ac14b"
      },
      "source": [
        "#### Q2. **Compare your choice of library with vanilla KNN.**\n",
        "***Hint: Include Time Complexity, and explain the tradeoff with recall***\n",
        "\n",
        "In my implementation, the whole matrix of user and image need to fit in RAM at once. In the size of the matrix is very large, it might not work or result in very high latency using virtual memory. Where as FAISS try to compress the matrix and it work on that form. It is faster than vanilla KNN. It is optimized for memory and speed and compromises very less on accuracy. It's time complexity is O(nlogn^2) and try to parallise and gain speed. GPU can speed up the algorithm speed. FAISS uses clustering to find the simillar neigbhour. Since FAISS tries to compress the matrix it may loss some information so the recall may be less in comparsion to vanilla KNN."
      ]
    },
    {
      "cell_type": "markdown",
      "id": "400d7827",
      "metadata": {
        "id": "400d7827"
      },
      "source": [
        "#### Q3. **Compare your choice of library with implementation of ScaNN, faiss and annoy.**\n",
        "***Hint: Include Time Complexity, and explain the tradeoff with recall***\n",
        "\n",
        "*Annoy uses forest of tree and it is faster than naive KNN. The time complexity of Annoy is O(k*number of trees). SCANN times complexity is O(nlogn). FAISS complexity is O(nlogn^2). The major tradeoff between all of these might be in terms of accuracy vs speed and space utilization.* "
      ]
    },
    {
      "cell_type": "markdown",
      "id": "142440b0",
      "metadata": {
        "id": "142440b0"
      },
      "source": [
        "### Open the output file to write all the lines to the file"
      ]
    },
    {
      "cell_type": "code",
      "execution_count": 19,
      "id": "977b08f9",
      "metadata": {
        "id": "977b08f9"
      },
      "outputs": [],
      "source": [
        "outFile = open(config['output_file'], 'w')\n",
        "\n",
        "for n_user,items in neighbors(targetUser,k_value):\n",
        "    for item_id in items:\n",
        "        outFile.write(str(item_id) + ' ' + str(n_user) + '\\n')\n",
        "\n",
        "outFile.close()"
      ]
    }
  ],
  "metadata": {
    "kernelspec": {
      "display_name": "Python 3",
      "language": "python",
      "name": "python3"
    },
    "language_info": {
      "codemirror_mode": {
        "name": "ipython",
        "version": 3
      },
      "file_extension": ".py",
      "mimetype": "text/x-python",
      "name": "python",
      "nbconvert_exporter": "python",
      "pygments_lexer": "ipython3",
      "version": "3.8.10"
    },
    "colab": {
      "name": "2021201034_Assignment1_Question2.ipynb",
      "provenance": []
    }
  },
  "nbformat": 4,
  "nbformat_minor": 5
}