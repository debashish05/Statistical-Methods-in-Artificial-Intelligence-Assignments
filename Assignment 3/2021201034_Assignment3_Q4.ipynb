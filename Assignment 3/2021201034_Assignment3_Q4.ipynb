{
 "cells": [
  {
   "cell_type": "markdown",
   "metadata": {
    "id": "VhSfbBviYpuf"
   },
   "source": [
    "# Assignment 3 ( Question 4) Know the hatred!\n",
    "\n",
    "## Instructions\n",
    "- Run this notebook on ```Google Colab(preferable)```\n",
    "- Write your code and analysis in the indicated cells.\n",
    "- Ensure that this notebook runs without errors when the cells are run in sequence.\n",
    "- Do not attempt to change the contents of other cells. \n",
    "\n",
    "## Packages Used\n",
    "- all the packages that are imported in the template code\n",
    "\n",
    "## Submission\n",
    "- Rename the notebook to `<roll_number>_Assignment3_Q4.ipynb`.\n"
   ]
  },
  {
   "cell_type": "code",
   "execution_count": 1,
   "metadata": {
    "id": "Vr9cT4n04gsJ"
   },
   "outputs": [],
   "source": [
    "import numpy as np\n",
    "import pandas as pd\n",
    "import matplotlib\n",
    "from matplotlib import pyplot as plt\n",
    "import re\n",
    "import sklearn\n",
    "import torch\n"
   ]
  },
  {
   "cell_type": "code",
   "execution_count": 2,
   "metadata": {
    "id": "m8KX18mePvdv"
   },
   "outputs": [
    {
     "name": "stdout",
     "output_type": "stream",
     "text": [
      "\u001b[33mWARNING: Ignoring invalid distribution -andas (/home/debashish/anaconda3/lib/python3.8/site-packages)\u001b[0m\u001b[33m\n",
      "\u001b[0m\u001b[33mWARNING: Ignoring invalid distribution -andas (/home/debashish/anaconda3/lib/python3.8/site-packages)\u001b[0m\u001b[33m\n",
      "\u001b[0mRequirement already satisfied: transformers in /home/debashish/anaconda3/lib/python3.8/site-packages (4.18.0)\n",
      "Requirement already satisfied: sacremoses in /home/debashish/anaconda3/lib/python3.8/site-packages (from transformers) (0.0.47)\n",
      "Requirement already satisfied: tqdm>=4.27 in /home/debashish/anaconda3/lib/python3.8/site-packages (from transformers) (4.63.0)\n",
      "Requirement already satisfied: tokenizers!=0.11.3,<0.13,>=0.11.1 in /home/debashish/anaconda3/lib/python3.8/site-packages (from transformers) (0.11.6)\n",
      "Requirement already satisfied: numpy>=1.17 in /home/debashish/anaconda3/lib/python3.8/site-packages (from transformers) (1.21.5)\n",
      "Requirement already satisfied: packaging>=20.0 in /home/debashish/anaconda3/lib/python3.8/site-packages (from transformers) (21.3)\n",
      "Requirement already satisfied: pyyaml>=5.1 in /home/debashish/anaconda3/lib/python3.8/site-packages (from transformers) (6.0)\n",
      "Requirement already satisfied: huggingface-hub<1.0,>=0.1.0 in /home/debashish/anaconda3/lib/python3.8/site-packages (from transformers) (0.5.1)\n",
      "Requirement already satisfied: regex!=2019.12.17 in /home/debashish/anaconda3/lib/python3.8/site-packages (from transformers) (2022.3.15)\n",
      "Requirement already satisfied: filelock in /home/debashish/anaconda3/lib/python3.8/site-packages (from transformers) (3.6.0)\n",
      "Requirement already satisfied: requests in /home/debashish/anaconda3/lib/python3.8/site-packages (from transformers) (2.27.1)\n",
      "Requirement already satisfied: typing-extensions>=3.7.4.3 in /home/debashish/anaconda3/lib/python3.8/site-packages (from huggingface-hub<1.0,>=0.1.0->transformers) (4.1.1)\n",
      "Requirement already satisfied: pyparsing!=3.0.5,>=2.0.2 in /home/debashish/anaconda3/lib/python3.8/site-packages (from packaging>=20.0->transformers) (3.0.4)\n",
      "Requirement already satisfied: urllib3<1.27,>=1.21.1 in /home/debashish/anaconda3/lib/python3.8/site-packages (from requests->transformers) (1.26.8)\n",
      "Requirement already satisfied: idna<4,>=2.5 in /home/debashish/anaconda3/lib/python3.8/site-packages (from requests->transformers) (3.3)\n",
      "Requirement already satisfied: certifi>=2017.4.17 in /home/debashish/anaconda3/lib/python3.8/site-packages (from requests->transformers) (2021.10.8)\n",
      "Requirement already satisfied: charset-normalizer~=2.0.0 in /home/debashish/anaconda3/lib/python3.8/site-packages (from requests->transformers) (2.0.4)\n",
      "Requirement already satisfied: joblib in /home/debashish/anaconda3/lib/python3.8/site-packages (from sacremoses->transformers) (1.1.0)\n",
      "Requirement already satisfied: click in /home/debashish/anaconda3/lib/python3.8/site-packages (from sacremoses->transformers) (8.0.4)\n",
      "Requirement already satisfied: six in /home/debashish/anaconda3/lib/python3.8/site-packages (from sacremoses->transformers) (1.16.0)\n",
      "\u001b[33mWARNING: Ignoring invalid distribution -andas (/home/debashish/anaconda3/lib/python3.8/site-packages)\u001b[0m\u001b[33m\n",
      "\u001b[0m\u001b[33mWARNING: Ignoring invalid distribution -andas (/home/debashish/anaconda3/lib/python3.8/site-packages)\u001b[0m\u001b[33m\n",
      "\u001b[0m\u001b[33mWARNING: Ignoring invalid distribution -andas (/home/debashish/anaconda3/lib/python3.8/site-packages)\u001b[0m\u001b[33m\n",
      "\u001b[0m"
     ]
    },
    {
     "name": "stderr",
     "output_type": "stream",
     "text": [
      "2022-04-13 23:20:25.467140: W tensorflow/stream_executor/platform/default/dso_loader.cc:64] Could not load dynamic library 'libcudart.so.11.0'; dlerror: libcudart.so.11.0: cannot open shared object file: No such file or directory\n",
      "2022-04-13 23:20:25.467319: I tensorflow/stream_executor/cuda/cudart_stub.cc:29] Ignore above cudart dlerror if you do not have a GPU set up on your machine.\n"
     ]
    }
   ],
   "source": [
    "!pip install transformers\n",
    "import transformers\n",
    "from transformers import AutoTokenizer, AutoModel"
   ]
  },
  {
   "cell_type": "markdown",
   "metadata": {
    "id": "Gqr3rUr4UNzh"
   },
   "source": [
    "#Dataset\n",
    "\n",
    "In the training data, the comments are labelled as one or more of the six categories; toxic, severe toxic, obscene, threat, insult and identity hate. This is essentially a multi-label classification problem.\n",
    "\n",
    "The dataset here is a multi-label classification dataset. To understand multi-label classification datasets, you can refer here: https://www.analyticsvidhya.com/blog/2017/08/introduction-to-multi-label-classification/ \n",
    "\n",
    ".\n",
    "\n",
    "\n",
    "Here, we will be using Binary relevance to solve our multi-label classification problem\n",
    "\n",
    "\n",
    "\n",
    "**Binary Relevance**: This is probably the simplest which treats each label as a separate single classification problems. The key assumption here though, is that there are no correlation among the various labels.\n",
    "\n",
    "Finally, we will be summing up the accuracies obtained of all labels to obtain the final accuracy\n"
   ]
  },
  {
   "cell_type": "code",
   "execution_count": 6,
   "metadata": {
    "colab": {
     "base_uri": "https://localhost:8080/",
     "height": 337
    },
    "id": "Xsp3trnR8gLH",
    "outputId": "f24d3c75-a29a-4353-9635-b74a74b083c9"
   },
   "outputs": [
    {
     "data": {
      "text/html": [
       "<div>\n",
       "<style scoped>\n",
       "    .dataframe tbody tr th:only-of-type {\n",
       "        vertical-align: middle;\n",
       "    }\n",
       "\n",
       "    .dataframe tbody tr th {\n",
       "        vertical-align: top;\n",
       "    }\n",
       "\n",
       "    .dataframe thead th {\n",
       "        text-align: right;\n",
       "    }\n",
       "</style>\n",
       "<table border=\"1\" class=\"dataframe\">\n",
       "  <thead>\n",
       "    <tr style=\"text-align: right;\">\n",
       "      <th></th>\n",
       "      <th>id</th>\n",
       "      <th>comment_text</th>\n",
       "      <th>toxic</th>\n",
       "      <th>severe_toxic</th>\n",
       "      <th>obscene</th>\n",
       "      <th>threat</th>\n",
       "      <th>insult</th>\n",
       "      <th>identity_hate</th>\n",
       "    </tr>\n",
       "  </thead>\n",
       "  <tbody>\n",
       "    <tr>\n",
       "      <th>60674</th>\n",
       "      <td>a26ae6ce84bfd9de</td>\n",
       "      <td>hello i back i read all comments and additions...</td>\n",
       "      <td>0</td>\n",
       "      <td>0</td>\n",
       "      <td>0</td>\n",
       "      <td>0</td>\n",
       "      <td>0</td>\n",
       "      <td>0</td>\n",
       "    </tr>\n",
       "    <tr>\n",
       "      <th>39405</th>\n",
       "      <td>6929117575f19219</td>\n",
       "      <td>Stavros Damianides\\nHi. I have recently come u...</td>\n",
       "      <td>0</td>\n",
       "      <td>0</td>\n",
       "      <td>0</td>\n",
       "      <td>0</td>\n",
       "      <td>0</td>\n",
       "      <td>0</td>\n",
       "    </tr>\n",
       "    <tr>\n",
       "      <th>36349</th>\n",
       "      <td>611d3bc11ad6dc84</td>\n",
       "      <td>\"==Regarding edits made during October 22 2006...</td>\n",
       "      <td>0</td>\n",
       "      <td>0</td>\n",
       "      <td>0</td>\n",
       "      <td>0</td>\n",
       "      <td>0</td>\n",
       "      <td>0</td>\n",
       "    </tr>\n",
       "    <tr>\n",
       "      <th>47574</th>\n",
       "      <td>7f1aabaf2d8bc0e3</td>\n",
       "      <td>YOU DELETED KORY SHERMAN NOW YOU HAVE AIDS!</td>\n",
       "      <td>1</td>\n",
       "      <td>0</td>\n",
       "      <td>0</td>\n",
       "      <td>0</td>\n",
       "      <td>0</td>\n",
       "      <td>0</td>\n",
       "    </tr>\n",
       "    <tr>\n",
       "      <th>109858</th>\n",
       "      <td>4b8a55e04cf25dca</td>\n",
       "      <td>Deletion review\\nI have posted a question at W...</td>\n",
       "      <td>0</td>\n",
       "      <td>0</td>\n",
       "      <td>0</td>\n",
       "      <td>0</td>\n",
       "      <td>0</td>\n",
       "      <td>0</td>\n",
       "    </tr>\n",
       "  </tbody>\n",
       "</table>\n",
       "</div>"
      ],
      "text/plain": [
       "                      id                                       comment_text  \\\n",
       "60674   a26ae6ce84bfd9de  hello i back i read all comments and additions...   \n",
       "39405   6929117575f19219  Stavros Damianides\\nHi. I have recently come u...   \n",
       "36349   611d3bc11ad6dc84  \"==Regarding edits made during October 22 2006...   \n",
       "47574   7f1aabaf2d8bc0e3        YOU DELETED KORY SHERMAN NOW YOU HAVE AIDS!   \n",
       "109858  4b8a55e04cf25dca  Deletion review\\nI have posted a question at W...   \n",
       "\n",
       "        toxic  severe_toxic  obscene  threat  insult  identity_hate  \n",
       "60674       0             0        0       0       0              0  \n",
       "39405       0             0        0       0       0              0  \n",
       "36349       0             0        0       0       0              0  \n",
       "47574       1             0        0       0       0              0  \n",
       "109858      0             0        0       0       0              0  "
      ]
     },
     "execution_count": 6,
     "metadata": {},
     "output_type": "execute_result"
    }
   ],
   "source": [
    "# loading the dataset\n",
    "\n",
    "train_df = pd.read_csv('q4_data/train.csv')\n",
    "test_df = pd.read_csv('q4_data/test.csv')\n",
    "test_label=pd.read_csv('q4_data/test_labels.csv')\n",
    "\n",
    "parameter=['toxic','severe_toxic','obscene','threat','insult','identity_hate']\n",
    "for para in parameter:\n",
    "  test_df[para]=test_label[para]\n",
    "\n",
    "test_df=test_df[test_df.toxic!=-1]\n",
    "\n",
    "#dataset understanding\n",
    "train_df.sample(5)\n"
   ]
  },
  {
   "cell_type": "code",
   "execution_count": 7,
   "metadata": {
    "colab": {
     "base_uri": "https://localhost:8080/"
    },
    "id": "Di6n18tL7kc2",
    "outputId": "959d21f1-2f17-4a89-acae-662c1997d2f8"
   },
   "outputs": [
    {
     "name": "stdout",
     "output_type": "stream",
     "text": [
      "Total rows in test is 63978\n",
      "Total rows in train is 159571\n"
     ]
    }
   ],
   "source": [
    "# let's see the total rows in train, test data and the numbers for the various categories\n",
    "print('Total rows in test is {}'.format(len(test_df)))\n",
    "print('Total rows in train is {}'.format(len(train_df)))\n",
    "#print(train_df[cols_target].sum())\n"
   ]
  },
  {
   "cell_type": "code",
   "execution_count": 8,
   "metadata": {
    "id": "ciejlBb074r3"
   },
   "outputs": [],
   "source": [
    "def clean_text(text):\n",
    "    text = text.lower()\n",
    "    text = re.sub(r\"what's\", \"what is \", text)\n",
    "    text = re.sub(r\"\\'s\", \" \", text)\n",
    "    text = re.sub(r\"\\'ve\", \" have \", text)\n",
    "    text = re.sub(r\"can't\", \"cannot \", text)\n",
    "    text = re.sub(r\"n't\", \" not \", text)\n",
    "    text = re.sub(r\"i'm\", \"i am \", text)\n",
    "    text = re.sub(r\"\\'re\", \" are \", text)\n",
    "    text = re.sub(r\"\\'d\", \" would \", text)\n",
    "    text = re.sub(r\"\\'ll\", \" will \", text)\n",
    "    text = re.sub(r\"\\'scuse\", \" excuse \", text)\n",
    "    text = re.sub('\\W', ' ', text)\n",
    "    text = re.sub('\\s+', ' ', text)\n",
    "    text = text.strip(' ')\n",
    "    return text\n"
   ]
  },
  {
   "cell_type": "code",
   "execution_count": 9,
   "metadata": {
    "id": "bknzbJYX8CEN"
   },
   "outputs": [],
   "source": [
    "train_df['comment_text'] = train_df['comment_text'].map(lambda com : clean_text(com))\n",
    "test_df['comment_text'] = test_df['comment_text'].map(lambda com : clean_text(com))"
   ]
  },
  {
   "cell_type": "code",
   "execution_count": 10,
   "metadata": {
    "id": "9ozooblAOQBG"
   },
   "outputs": [
    {
     "name": "stdout",
     "output_type": "stream",
     "text": [
      "(159571,) (63978,)\n"
     ]
    }
   ],
   "source": [
    "#train_df = train_df.drop('char_length',axis=1)\n",
    "X = train_df.comment_text\n",
    "test_X = test_df.comment_text\n",
    "print(X.shape, test_X.shape)\n"
   ]
  },
  {
   "cell_type": "markdown",
   "metadata": {
    "id": "QEPiqW7nOeZM"
   },
   "source": [
    "Now, we will be experimenting this classification problem with different classifiers. We will be using pre-trained models inorder to obtain the required embeddings. Here, we will be using BERT and Universal Sentence Encoder embeddings.\n",
    "\n",
    "\n",
    "Understand how Elmo and USE(Universal Sentence Encoder) works here. You can use any of both to train your classifiers.\n",
    "\n",
    "To understand how different sentence embeddings work, you can refer to this link: https://neptune.ai/blog/how-to-code-bert-using-pytorch-tutorial \n",
    "\n",
    "Please give it a look before you start working with transfer learning/ sentence embeddings like BERT, Elmo, Ulm-fit, USE.\n"
   ]
  },
  {
   "cell_type": "code",
   "execution_count": null,
   "metadata": {
    "id": "x6KUcPjMypJm"
   },
   "outputs": [],
   "source": []
  },
  {
   "cell_type": "code",
   "execution_count": null,
   "metadata": {
    "id": "PzqSibiizNG8"
   },
   "outputs": [],
   "source": []
  },
  {
   "cell_type": "code",
   "execution_count": null,
   "metadata": {
    "id": "VWL8KlxrzNDk"
   },
   "outputs": [],
   "source": []
  },
  {
   "cell_type": "code",
   "execution_count": 11,
   "metadata": {
    "id": "C_YhipFSzNaC"
   },
   "outputs": [
    {
     "ename": "KeyboardInterrupt",
     "evalue": "",
     "output_type": "error",
     "traceback": [
      "\u001b[0;31m---------------------------------------------------------------------------\u001b[0m",
      "\u001b[0;31mKeyboardInterrupt\u001b[0m                         Traceback (most recent call last)",
      "\u001b[1;32m/home/debashish/Downloads/smai/Assignment3/rollnumber_Assignment3_Q4.ipynb Cell 14'\u001b[0m in \u001b[0;36m<cell line: 5>\u001b[0;34m()\u001b[0m\n\u001b[1;32m      <a href='vscode-notebook-cell:/home/debashish/Downloads/smai/Assignment3/rollnumber_Assignment3_Q4.ipynb#ch0000013?line=2'>3</a>\u001b[0m \u001b[39mimport\u001b[39;00m \u001b[39mtensorflow_hub\u001b[39;00m \u001b[39mas\u001b[39;00m \u001b[39mhub\u001b[39;00m\n\u001b[1;32m      <a href='vscode-notebook-cell:/home/debashish/Downloads/smai/Assignment3/rollnumber_Assignment3_Q4.ipynb#ch0000013?line=3'>4</a>\u001b[0m \u001b[39m# Load pre-trained universal sentence encoder model\u001b[39;00m\n\u001b[0;32m----> <a href='vscode-notebook-cell:/home/debashish/Downloads/smai/Assignment3/rollnumber_Assignment3_Q4.ipynb#ch0000013?line=4'>5</a>\u001b[0m use_embed \u001b[39m=\u001b[39m hub\u001b[39m.\u001b[39;49mload(\u001b[39m\"\u001b[39;49m\u001b[39mhttps://tfhub.dev/google/universal-sentence-encoder/4\u001b[39;49m\u001b[39m\"\u001b[39;49m)\n",
      "File \u001b[0;32m~/anaconda3/lib/python3.8/site-packages/tensorflow_hub/module_v2.py:92\u001b[0m, in \u001b[0;36mload\u001b[0;34m(handle, tags, options)\u001b[0m\n\u001b[1;32m     <a href='file:///home/debashish/anaconda3/lib/python3.8/site-packages/tensorflow_hub/module_v2.py?line=89'>90</a>\u001b[0m \u001b[39mif\u001b[39;00m \u001b[39mnot\u001b[39;00m \u001b[39misinstance\u001b[39m(handle, \u001b[39mstr\u001b[39m):\n\u001b[1;32m     <a href='file:///home/debashish/anaconda3/lib/python3.8/site-packages/tensorflow_hub/module_v2.py?line=90'>91</a>\u001b[0m   \u001b[39mraise\u001b[39;00m \u001b[39mValueError\u001b[39;00m(\u001b[39m\"\u001b[39m\u001b[39mExpected a string, got \u001b[39m\u001b[39m%s\u001b[39;00m\u001b[39m\"\u001b[39m \u001b[39m%\u001b[39m handle)\n\u001b[0;32m---> <a href='file:///home/debashish/anaconda3/lib/python3.8/site-packages/tensorflow_hub/module_v2.py?line=91'>92</a>\u001b[0m module_path \u001b[39m=\u001b[39m resolve(handle)\n\u001b[1;32m     <a href='file:///home/debashish/anaconda3/lib/python3.8/site-packages/tensorflow_hub/module_v2.py?line=92'>93</a>\u001b[0m is_hub_module_v1 \u001b[39m=\u001b[39m tf\u001b[39m.\u001b[39mio\u001b[39m.\u001b[39mgfile\u001b[39m.\u001b[39mexists(\n\u001b[1;32m     <a href='file:///home/debashish/anaconda3/lib/python3.8/site-packages/tensorflow_hub/module_v2.py?line=93'>94</a>\u001b[0m     native_module\u001b[39m.\u001b[39mget_module_proto_path(module_path))\n\u001b[1;32m     <a href='file:///home/debashish/anaconda3/lib/python3.8/site-packages/tensorflow_hub/module_v2.py?line=94'>95</a>\u001b[0m \u001b[39mif\u001b[39;00m tags \u001b[39mis\u001b[39;00m \u001b[39mNone\u001b[39;00m \u001b[39mand\u001b[39;00m is_hub_module_v1:\n",
      "File \u001b[0;32m~/anaconda3/lib/python3.8/site-packages/tensorflow_hub/module_v2.py:47\u001b[0m, in \u001b[0;36mresolve\u001b[0;34m(handle)\u001b[0m\n\u001b[1;32m     <a href='file:///home/debashish/anaconda3/lib/python3.8/site-packages/tensorflow_hub/module_v2.py?line=22'>23</a>\u001b[0m \u001b[39mdef\u001b[39;00m \u001b[39mresolve\u001b[39m(handle):\n\u001b[1;32m     <a href='file:///home/debashish/anaconda3/lib/python3.8/site-packages/tensorflow_hub/module_v2.py?line=23'>24</a>\u001b[0m   \u001b[39m\"\"\"Resolves a module handle into a path.\u001b[39;00m\n\u001b[1;32m     <a href='file:///home/debashish/anaconda3/lib/python3.8/site-packages/tensorflow_hub/module_v2.py?line=24'>25</a>\u001b[0m \n\u001b[1;32m     <a href='file:///home/debashish/anaconda3/lib/python3.8/site-packages/tensorflow_hub/module_v2.py?line=25'>26</a>\u001b[0m \u001b[39m  This function works both for plain TF2 SavedModels and the legacy TF1 Hub\u001b[39;00m\n\u001b[0;32m   (...)\u001b[0m\n\u001b[1;32m     <a href='file:///home/debashish/anaconda3/lib/python3.8/site-packages/tensorflow_hub/module_v2.py?line=44'>45</a>\u001b[0m \u001b[39m    A string representing the Module path.\u001b[39;00m\n\u001b[1;32m     <a href='file:///home/debashish/anaconda3/lib/python3.8/site-packages/tensorflow_hub/module_v2.py?line=45'>46</a>\u001b[0m \u001b[39m  \"\"\"\u001b[39;00m\n\u001b[0;32m---> <a href='file:///home/debashish/anaconda3/lib/python3.8/site-packages/tensorflow_hub/module_v2.py?line=46'>47</a>\u001b[0m   \u001b[39mreturn\u001b[39;00m registry\u001b[39m.\u001b[39;49mresolver(handle)\n",
      "File \u001b[0;32m~/anaconda3/lib/python3.8/site-packages/tensorflow_hub/registry.py:51\u001b[0m, in \u001b[0;36mMultiImplRegister.__call__\u001b[0;34m(self, *args, **kwargs)\u001b[0m\n\u001b[1;32m     <a href='file:///home/debashish/anaconda3/lib/python3.8/site-packages/tensorflow_hub/registry.py?line=48'>49</a>\u001b[0m \u001b[39mfor\u001b[39;00m impl \u001b[39min\u001b[39;00m \u001b[39mreversed\u001b[39m(\u001b[39mself\u001b[39m\u001b[39m.\u001b[39m_impls):\n\u001b[1;32m     <a href='file:///home/debashish/anaconda3/lib/python3.8/site-packages/tensorflow_hub/registry.py?line=49'>50</a>\u001b[0m   \u001b[39mif\u001b[39;00m impl\u001b[39m.\u001b[39mis_supported(\u001b[39m*\u001b[39margs, \u001b[39m*\u001b[39m\u001b[39m*\u001b[39mkwargs):\n\u001b[0;32m---> <a href='file:///home/debashish/anaconda3/lib/python3.8/site-packages/tensorflow_hub/registry.py?line=50'>51</a>\u001b[0m     \u001b[39mreturn\u001b[39;00m impl(\u001b[39m*\u001b[39;49margs, \u001b[39m*\u001b[39;49m\u001b[39m*\u001b[39;49mkwargs)\n\u001b[1;32m     <a href='file:///home/debashish/anaconda3/lib/python3.8/site-packages/tensorflow_hub/registry.py?line=51'>52</a>\u001b[0m   \u001b[39melse\u001b[39;00m:\n\u001b[1;32m     <a href='file:///home/debashish/anaconda3/lib/python3.8/site-packages/tensorflow_hub/registry.py?line=52'>53</a>\u001b[0m     fails\u001b[39m.\u001b[39mappend(\u001b[39mtype\u001b[39m(impl)\u001b[39m.\u001b[39m\u001b[39m__name__\u001b[39m)\n",
      "File \u001b[0;32m~/anaconda3/lib/python3.8/site-packages/tensorflow_hub/compressed_module_resolver.py:67\u001b[0m, in \u001b[0;36mHttpCompressedFileResolver.__call__\u001b[0;34m(self, handle)\u001b[0m\n\u001b[1;32m     <a href='file:///home/debashish/anaconda3/lib/python3.8/site-packages/tensorflow_hub/compressed_module_resolver.py?line=62'>63</a>\u001b[0m   response \u001b[39m=\u001b[39m \u001b[39mself\u001b[39m\u001b[39m.\u001b[39m_call_urlopen(request)\n\u001b[1;32m     <a href='file:///home/debashish/anaconda3/lib/python3.8/site-packages/tensorflow_hub/compressed_module_resolver.py?line=63'>64</a>\u001b[0m   \u001b[39mreturn\u001b[39;00m resolver\u001b[39m.\u001b[39mDownloadManager(handle)\u001b[39m.\u001b[39mdownload_and_uncompress(\n\u001b[1;32m     <a href='file:///home/debashish/anaconda3/lib/python3.8/site-packages/tensorflow_hub/compressed_module_resolver.py?line=64'>65</a>\u001b[0m       response, tmp_dir)\n\u001b[0;32m---> <a href='file:///home/debashish/anaconda3/lib/python3.8/site-packages/tensorflow_hub/compressed_module_resolver.py?line=66'>67</a>\u001b[0m \u001b[39mreturn\u001b[39;00m resolver\u001b[39m.\u001b[39;49matomic_download(handle, download, module_dir,\n\u001b[1;32m     <a href='file:///home/debashish/anaconda3/lib/python3.8/site-packages/tensorflow_hub/compressed_module_resolver.py?line=67'>68</a>\u001b[0m                                 \u001b[39mself\u001b[39;49m\u001b[39m.\u001b[39;49m_lock_file_timeout_sec())\n",
      "File \u001b[0;32m~/anaconda3/lib/python3.8/site-packages/tensorflow_hub/resolver.py:418\u001b[0m, in \u001b[0;36matomic_download\u001b[0;34m(handle, download_fn, module_dir, lock_file_timeout_sec)\u001b[0m\n\u001b[1;32m    <a href='file:///home/debashish/anaconda3/lib/python3.8/site-packages/tensorflow_hub/resolver.py?line=415'>416</a>\u001b[0m logging\u001b[39m.\u001b[39minfo(\u001b[39m\"\u001b[39m\u001b[39mDownloading TF-Hub Module \u001b[39m\u001b[39m'\u001b[39m\u001b[39m%s\u001b[39;00m\u001b[39m'\u001b[39m\u001b[39m.\u001b[39m\u001b[39m\"\u001b[39m, handle)\n\u001b[1;32m    <a href='file:///home/debashish/anaconda3/lib/python3.8/site-packages/tensorflow_hub/resolver.py?line=416'>417</a>\u001b[0m tf\u001b[39m.\u001b[39mcompat\u001b[39m.\u001b[39mv1\u001b[39m.\u001b[39mgfile\u001b[39m.\u001b[39mMakeDirs(tmp_dir)\n\u001b[0;32m--> <a href='file:///home/debashish/anaconda3/lib/python3.8/site-packages/tensorflow_hub/resolver.py?line=417'>418</a>\u001b[0m download_fn(handle, tmp_dir)\n\u001b[1;32m    <a href='file:///home/debashish/anaconda3/lib/python3.8/site-packages/tensorflow_hub/resolver.py?line=418'>419</a>\u001b[0m \u001b[39m# Write module descriptor to capture information about which module was\u001b[39;00m\n\u001b[1;32m    <a href='file:///home/debashish/anaconda3/lib/python3.8/site-packages/tensorflow_hub/resolver.py?line=419'>420</a>\u001b[0m \u001b[39m# downloaded by whom and when. The file stored at the same level as a\u001b[39;00m\n\u001b[1;32m    <a href='file:///home/debashish/anaconda3/lib/python3.8/site-packages/tensorflow_hub/resolver.py?line=420'>421</a>\u001b[0m \u001b[39m# directory in order to keep the content of the 'model_dir' exactly as it\u001b[39;00m\n\u001b[0;32m   (...)\u001b[0m\n\u001b[1;32m    <a href='file:///home/debashish/anaconda3/lib/python3.8/site-packages/tensorflow_hub/resolver.py?line=425'>426</a>\u001b[0m \u001b[39m# module caching protocol and no code in the TF-Hub library reads its\u001b[39;00m\n\u001b[1;32m    <a href='file:///home/debashish/anaconda3/lib/python3.8/site-packages/tensorflow_hub/resolver.py?line=426'>427</a>\u001b[0m \u001b[39m# content.\u001b[39;00m\n\u001b[1;32m    <a href='file:///home/debashish/anaconda3/lib/python3.8/site-packages/tensorflow_hub/resolver.py?line=427'>428</a>\u001b[0m _write_module_descriptor_file(handle, module_dir)\n",
      "File \u001b[0;32m~/anaconda3/lib/python3.8/site-packages/tensorflow_hub/compressed_module_resolver.py:64\u001b[0m, in \u001b[0;36mHttpCompressedFileResolver.__call__.<locals>.download\u001b[0;34m(handle, tmp_dir)\u001b[0m\n\u001b[1;32m     <a href='file:///home/debashish/anaconda3/lib/python3.8/site-packages/tensorflow_hub/compressed_module_resolver.py?line=60'>61</a>\u001b[0m request \u001b[39m=\u001b[39m urllib\u001b[39m.\u001b[39mrequest\u001b[39m.\u001b[39mRequest(\n\u001b[1;32m     <a href='file:///home/debashish/anaconda3/lib/python3.8/site-packages/tensorflow_hub/compressed_module_resolver.py?line=61'>62</a>\u001b[0m     \u001b[39mself\u001b[39m\u001b[39m.\u001b[39m_append_compressed_format_query(handle))\n\u001b[1;32m     <a href='file:///home/debashish/anaconda3/lib/python3.8/site-packages/tensorflow_hub/compressed_module_resolver.py?line=62'>63</a>\u001b[0m response \u001b[39m=\u001b[39m \u001b[39mself\u001b[39m\u001b[39m.\u001b[39m_call_urlopen(request)\n\u001b[0;32m---> <a href='file:///home/debashish/anaconda3/lib/python3.8/site-packages/tensorflow_hub/compressed_module_resolver.py?line=63'>64</a>\u001b[0m \u001b[39mreturn\u001b[39;00m resolver\u001b[39m.\u001b[39;49mDownloadManager(handle)\u001b[39m.\u001b[39;49mdownload_and_uncompress(\n\u001b[1;32m     <a href='file:///home/debashish/anaconda3/lib/python3.8/site-packages/tensorflow_hub/compressed_module_resolver.py?line=64'>65</a>\u001b[0m     response, tmp_dir)\n",
      "File \u001b[0;32m~/anaconda3/lib/python3.8/site-packages/tensorflow_hub/resolver.py:189\u001b[0m, in \u001b[0;36mDownloadManager.download_and_uncompress\u001b[0;34m(self, fileobj, dst_path)\u001b[0m\n\u001b[1;32m    <a href='file:///home/debashish/anaconda3/lib/python3.8/site-packages/tensorflow_hub/resolver.py?line=178'>179</a>\u001b[0m \u001b[39m\"\"\"Streams the content for the 'fileobj' and stores the result in dst_path.\u001b[39;00m\n\u001b[1;32m    <a href='file:///home/debashish/anaconda3/lib/python3.8/site-packages/tensorflow_hub/resolver.py?line=179'>180</a>\u001b[0m \n\u001b[1;32m    <a href='file:///home/debashish/anaconda3/lib/python3.8/site-packages/tensorflow_hub/resolver.py?line=180'>181</a>\u001b[0m \u001b[39mArgs:\u001b[39;00m\n\u001b[0;32m   (...)\u001b[0m\n\u001b[1;32m    <a href='file:///home/debashish/anaconda3/lib/python3.8/site-packages/tensorflow_hub/resolver.py?line=185'>186</a>\u001b[0m \u001b[39m  ValueError: Unknown object encountered inside the TAR file.\u001b[39;00m\n\u001b[1;32m    <a href='file:///home/debashish/anaconda3/lib/python3.8/site-packages/tensorflow_hub/resolver.py?line=186'>187</a>\u001b[0m \u001b[39m\"\"\"\u001b[39;00m\n\u001b[1;32m    <a href='file:///home/debashish/anaconda3/lib/python3.8/site-packages/tensorflow_hub/resolver.py?line=187'>188</a>\u001b[0m \u001b[39mtry\u001b[39;00m:\n\u001b[0;32m--> <a href='file:///home/debashish/anaconda3/lib/python3.8/site-packages/tensorflow_hub/resolver.py?line=188'>189</a>\u001b[0m   file_utils\u001b[39m.\u001b[39;49mextract_tarfile_to_destination(\n\u001b[1;32m    <a href='file:///home/debashish/anaconda3/lib/python3.8/site-packages/tensorflow_hub/resolver.py?line=189'>190</a>\u001b[0m       fileobj, dst_path, log_function\u001b[39m=\u001b[39;49m\u001b[39mself\u001b[39;49m\u001b[39m.\u001b[39;49m_log_progress)\n\u001b[1;32m    <a href='file:///home/debashish/anaconda3/lib/python3.8/site-packages/tensorflow_hub/resolver.py?line=190'>191</a>\u001b[0m   total_size_str \u001b[39m=\u001b[39m tf_utils\u001b[39m.\u001b[39mbytes_to_readable_str(\n\u001b[1;32m    <a href='file:///home/debashish/anaconda3/lib/python3.8/site-packages/tensorflow_hub/resolver.py?line=191'>192</a>\u001b[0m       \u001b[39mself\u001b[39m\u001b[39m.\u001b[39m_total_bytes_downloaded, \u001b[39mTrue\u001b[39;00m)\n\u001b[1;32m    <a href='file:///home/debashish/anaconda3/lib/python3.8/site-packages/tensorflow_hub/resolver.py?line=192'>193</a>\u001b[0m   \u001b[39mself\u001b[39m\u001b[39m.\u001b[39m_print_download_progress_msg(\n\u001b[1;32m    <a href='file:///home/debashish/anaconda3/lib/python3.8/site-packages/tensorflow_hub/resolver.py?line=193'>194</a>\u001b[0m       \u001b[39m\"\u001b[39m\u001b[39mDownloaded \u001b[39m\u001b[39m%s\u001b[39;00m\u001b[39m, Total size: \u001b[39m\u001b[39m%s\u001b[39;00m\u001b[39m\"\u001b[39m \u001b[39m%\u001b[39m (\u001b[39mself\u001b[39m\u001b[39m.\u001b[39m_url, total_size_str),\n\u001b[1;32m    <a href='file:///home/debashish/anaconda3/lib/python3.8/site-packages/tensorflow_hub/resolver.py?line=194'>195</a>\u001b[0m       flush\u001b[39m=\u001b[39m\u001b[39mTrue\u001b[39;00m)\n",
      "File \u001b[0;32m~/anaconda3/lib/python3.8/site-packages/tensorflow_hub/file_utils.py:52\u001b[0m, in \u001b[0;36mextract_tarfile_to_destination\u001b[0;34m(fileobj, dst_path, log_function)\u001b[0m\n\u001b[1;32m     <a href='file:///home/debashish/anaconda3/lib/python3.8/site-packages/tensorflow_hub/file_utils.py?line=48'>49</a>\u001b[0m abs_target_path \u001b[39m=\u001b[39m merge_relative_path(dst_path, tarinfo\u001b[39m.\u001b[39mname)\n\u001b[1;32m     <a href='file:///home/debashish/anaconda3/lib/python3.8/site-packages/tensorflow_hub/file_utils.py?line=50'>51</a>\u001b[0m \u001b[39mif\u001b[39;00m tarinfo\u001b[39m.\u001b[39misfile():\n\u001b[0;32m---> <a href='file:///home/debashish/anaconda3/lib/python3.8/site-packages/tensorflow_hub/file_utils.py?line=51'>52</a>\u001b[0m   extract_file(tgz, tarinfo, abs_target_path, log_function\u001b[39m=\u001b[39;49mlog_function)\n\u001b[1;32m     <a href='file:///home/debashish/anaconda3/lib/python3.8/site-packages/tensorflow_hub/file_utils.py?line=52'>53</a>\u001b[0m \u001b[39melif\u001b[39;00m tarinfo\u001b[39m.\u001b[39misdir():\n\u001b[1;32m     <a href='file:///home/debashish/anaconda3/lib/python3.8/site-packages/tensorflow_hub/file_utils.py?line=53'>54</a>\u001b[0m   tf\u001b[39m.\u001b[39mcompat\u001b[39m.\u001b[39mv1\u001b[39m.\u001b[39mgfile\u001b[39m.\u001b[39mMakeDirs(abs_target_path)\n",
      "File \u001b[0;32m~/anaconda3/lib/python3.8/site-packages/tensorflow_hub/file_utils.py:35\u001b[0m, in \u001b[0;36mextract_file\u001b[0;34m(tgz, tarinfo, dst_path, buffer_size, log_function)\u001b[0m\n\u001b[1;32m     <a href='file:///home/debashish/anaconda3/lib/python3.8/site-packages/tensorflow_hub/file_utils.py?line=32'>33</a>\u001b[0m dst \u001b[39m=\u001b[39m tf\u001b[39m.\u001b[39mcompat\u001b[39m.\u001b[39mv1\u001b[39m.\u001b[39mgfile\u001b[39m.\u001b[39mGFile(dst_path, \u001b[39m\"\u001b[39m\u001b[39mwb\u001b[39m\u001b[39m\"\u001b[39m)\n\u001b[1;32m     <a href='file:///home/debashish/anaconda3/lib/python3.8/site-packages/tensorflow_hub/file_utils.py?line=33'>34</a>\u001b[0m \u001b[39mwhile\u001b[39;00m \u001b[39m1\u001b[39m:\n\u001b[0;32m---> <a href='file:///home/debashish/anaconda3/lib/python3.8/site-packages/tensorflow_hub/file_utils.py?line=34'>35</a>\u001b[0m   buf \u001b[39m=\u001b[39m src\u001b[39m.\u001b[39;49mread(buffer_size)\n\u001b[1;32m     <a href='file:///home/debashish/anaconda3/lib/python3.8/site-packages/tensorflow_hub/file_utils.py?line=35'>36</a>\u001b[0m   \u001b[39mif\u001b[39;00m \u001b[39mnot\u001b[39;00m buf:\n\u001b[1;32m     <a href='file:///home/debashish/anaconda3/lib/python3.8/site-packages/tensorflow_hub/file_utils.py?line=36'>37</a>\u001b[0m     \u001b[39mbreak\u001b[39;00m\n",
      "File \u001b[0;32m~/anaconda3/lib/python3.8/tarfile.py:695\u001b[0m, in \u001b[0;36m_FileInFile.readinto\u001b[0;34m(self, b)\u001b[0m\n\u001b[1;32m    <a href='file:///home/debashish/anaconda3/lib/python3.8/tarfile.py?line=693'>694</a>\u001b[0m \u001b[39mdef\u001b[39;00m \u001b[39mreadinto\u001b[39m(\u001b[39mself\u001b[39m, b):\n\u001b[0;32m--> <a href='file:///home/debashish/anaconda3/lib/python3.8/tarfile.py?line=694'>695</a>\u001b[0m     buf \u001b[39m=\u001b[39m \u001b[39mself\u001b[39;49m\u001b[39m.\u001b[39;49mread(\u001b[39mlen\u001b[39;49m(b))\n\u001b[1;32m    <a href='file:///home/debashish/anaconda3/lib/python3.8/tarfile.py?line=695'>696</a>\u001b[0m     b[:\u001b[39mlen\u001b[39m(buf)] \u001b[39m=\u001b[39m buf\n\u001b[1;32m    <a href='file:///home/debashish/anaconda3/lib/python3.8/tarfile.py?line=696'>697</a>\u001b[0m     \u001b[39mreturn\u001b[39;00m \u001b[39mlen\u001b[39m(buf)\n",
      "File \u001b[0;32m~/anaconda3/lib/python3.8/tarfile.py:684\u001b[0m, in \u001b[0;36m_FileInFile.read\u001b[0;34m(self, size)\u001b[0m\n\u001b[1;32m    <a href='file:///home/debashish/anaconda3/lib/python3.8/tarfile.py?line=681'>682</a>\u001b[0m \u001b[39mif\u001b[39;00m data:\n\u001b[1;32m    <a href='file:///home/debashish/anaconda3/lib/python3.8/tarfile.py?line=682'>683</a>\u001b[0m     \u001b[39mself\u001b[39m\u001b[39m.\u001b[39mfileobj\u001b[39m.\u001b[39mseek(offset \u001b[39m+\u001b[39m (\u001b[39mself\u001b[39m\u001b[39m.\u001b[39mposition \u001b[39m-\u001b[39m start))\n\u001b[0;32m--> <a href='file:///home/debashish/anaconda3/lib/python3.8/tarfile.py?line=683'>684</a>\u001b[0m     b \u001b[39m=\u001b[39m \u001b[39mself\u001b[39;49m\u001b[39m.\u001b[39;49mfileobj\u001b[39m.\u001b[39;49mread(length)\n\u001b[1;32m    <a href='file:///home/debashish/anaconda3/lib/python3.8/tarfile.py?line=684'>685</a>\u001b[0m     \u001b[39mif\u001b[39;00m \u001b[39mlen\u001b[39m(b) \u001b[39m!=\u001b[39m length:\n\u001b[1;32m    <a href='file:///home/debashish/anaconda3/lib/python3.8/tarfile.py?line=685'>686</a>\u001b[0m         \u001b[39mraise\u001b[39;00m ReadError(\u001b[39m\"\u001b[39m\u001b[39munexpected end of data\u001b[39m\u001b[39m\"\u001b[39m)\n",
      "File \u001b[0;32m~/anaconda3/lib/python3.8/tarfile.py:521\u001b[0m, in \u001b[0;36m_Stream.read\u001b[0;34m(self, size)\u001b[0m\n\u001b[1;32m    <a href='file:///home/debashish/anaconda3/lib/python3.8/tarfile.py?line=518'>519</a>\u001b[0m \u001b[39m\"\"\"Return the next size number of bytes from the stream.\"\"\"\u001b[39;00m\n\u001b[1;32m    <a href='file:///home/debashish/anaconda3/lib/python3.8/tarfile.py?line=519'>520</a>\u001b[0m \u001b[39massert\u001b[39;00m size \u001b[39mis\u001b[39;00m \u001b[39mnot\u001b[39;00m \u001b[39mNone\u001b[39;00m\n\u001b[0;32m--> <a href='file:///home/debashish/anaconda3/lib/python3.8/tarfile.py?line=520'>521</a>\u001b[0m buf \u001b[39m=\u001b[39m \u001b[39mself\u001b[39;49m\u001b[39m.\u001b[39;49m_read(size)\n\u001b[1;32m    <a href='file:///home/debashish/anaconda3/lib/python3.8/tarfile.py?line=521'>522</a>\u001b[0m \u001b[39mself\u001b[39m\u001b[39m.\u001b[39mpos \u001b[39m+\u001b[39m\u001b[39m=\u001b[39m \u001b[39mlen\u001b[39m(buf)\n\u001b[1;32m    <a href='file:///home/debashish/anaconda3/lib/python3.8/tarfile.py?line=522'>523</a>\u001b[0m \u001b[39mreturn\u001b[39;00m buf\n",
      "File \u001b[0;32m~/anaconda3/lib/python3.8/tarfile.py:539\u001b[0m, in \u001b[0;36m_Stream._read\u001b[0;34m(self, size)\u001b[0m\n\u001b[1;32m    <a href='file:///home/debashish/anaconda3/lib/python3.8/tarfile.py?line=536'>537</a>\u001b[0m     \u001b[39mself\u001b[39m\u001b[39m.\u001b[39mbuf \u001b[39m=\u001b[39m \u001b[39mb\u001b[39m\u001b[39m\"\u001b[39m\u001b[39m\"\u001b[39m\n\u001b[1;32m    <a href='file:///home/debashish/anaconda3/lib/python3.8/tarfile.py?line=537'>538</a>\u001b[0m \u001b[39melse\u001b[39;00m:\n\u001b[0;32m--> <a href='file:///home/debashish/anaconda3/lib/python3.8/tarfile.py?line=538'>539</a>\u001b[0m     buf \u001b[39m=\u001b[39m \u001b[39mself\u001b[39;49m\u001b[39m.\u001b[39;49mfileobj\u001b[39m.\u001b[39;49mread(\u001b[39mself\u001b[39;49m\u001b[39m.\u001b[39;49mbufsize)\n\u001b[1;32m    <a href='file:///home/debashish/anaconda3/lib/python3.8/tarfile.py?line=539'>540</a>\u001b[0m     \u001b[39mif\u001b[39;00m \u001b[39mnot\u001b[39;00m buf:\n\u001b[1;32m    <a href='file:///home/debashish/anaconda3/lib/python3.8/tarfile.py?line=540'>541</a>\u001b[0m         \u001b[39mbreak\u001b[39;00m\n",
      "File \u001b[0;32m~/anaconda3/lib/python3.8/http/client.py:459\u001b[0m, in \u001b[0;36mHTTPResponse.read\u001b[0;34m(self, amt)\u001b[0m\n\u001b[1;32m    <a href='file:///home/debashish/anaconda3/lib/python3.8/http/client.py?line=455'>456</a>\u001b[0m \u001b[39mif\u001b[39;00m amt \u001b[39mis\u001b[39;00m \u001b[39mnot\u001b[39;00m \u001b[39mNone\u001b[39;00m:\n\u001b[1;32m    <a href='file:///home/debashish/anaconda3/lib/python3.8/http/client.py?line=456'>457</a>\u001b[0m     \u001b[39m# Amount is given, implement using readinto\u001b[39;00m\n\u001b[1;32m    <a href='file:///home/debashish/anaconda3/lib/python3.8/http/client.py?line=457'>458</a>\u001b[0m     b \u001b[39m=\u001b[39m \u001b[39mbytearray\u001b[39m(amt)\n\u001b[0;32m--> <a href='file:///home/debashish/anaconda3/lib/python3.8/http/client.py?line=458'>459</a>\u001b[0m     n \u001b[39m=\u001b[39m \u001b[39mself\u001b[39;49m\u001b[39m.\u001b[39;49mreadinto(b)\n\u001b[1;32m    <a href='file:///home/debashish/anaconda3/lib/python3.8/http/client.py?line=459'>460</a>\u001b[0m     \u001b[39mreturn\u001b[39;00m \u001b[39mmemoryview\u001b[39m(b)[:n]\u001b[39m.\u001b[39mtobytes()\n\u001b[1;32m    <a href='file:///home/debashish/anaconda3/lib/python3.8/http/client.py?line=460'>461</a>\u001b[0m \u001b[39melse\u001b[39;00m:\n\u001b[1;32m    <a href='file:///home/debashish/anaconda3/lib/python3.8/http/client.py?line=461'>462</a>\u001b[0m     \u001b[39m# Amount is not given (unbounded read) so we must check self.length\u001b[39;00m\n\u001b[1;32m    <a href='file:///home/debashish/anaconda3/lib/python3.8/http/client.py?line=462'>463</a>\u001b[0m     \u001b[39m# and self.chunked\u001b[39;00m\n",
      "File \u001b[0;32m~/anaconda3/lib/python3.8/http/client.py:503\u001b[0m, in \u001b[0;36mHTTPResponse.readinto\u001b[0;34m(self, b)\u001b[0m\n\u001b[1;32m    <a href='file:///home/debashish/anaconda3/lib/python3.8/http/client.py?line=497'>498</a>\u001b[0m         b \u001b[39m=\u001b[39m \u001b[39mmemoryview\u001b[39m(b)[\u001b[39m0\u001b[39m:\u001b[39mself\u001b[39m\u001b[39m.\u001b[39mlength]\n\u001b[1;32m    <a href='file:///home/debashish/anaconda3/lib/python3.8/http/client.py?line=499'>500</a>\u001b[0m \u001b[39m# we do not use _safe_read() here because this may be a .will_close\u001b[39;00m\n\u001b[1;32m    <a href='file:///home/debashish/anaconda3/lib/python3.8/http/client.py?line=500'>501</a>\u001b[0m \u001b[39m# connection, and the user is reading more bytes than will be provided\u001b[39;00m\n\u001b[1;32m    <a href='file:///home/debashish/anaconda3/lib/python3.8/http/client.py?line=501'>502</a>\u001b[0m \u001b[39m# (for example, reading in 1k chunks)\u001b[39;00m\n\u001b[0;32m--> <a href='file:///home/debashish/anaconda3/lib/python3.8/http/client.py?line=502'>503</a>\u001b[0m n \u001b[39m=\u001b[39m \u001b[39mself\u001b[39;49m\u001b[39m.\u001b[39;49mfp\u001b[39m.\u001b[39;49mreadinto(b)\n\u001b[1;32m    <a href='file:///home/debashish/anaconda3/lib/python3.8/http/client.py?line=503'>504</a>\u001b[0m \u001b[39mif\u001b[39;00m \u001b[39mnot\u001b[39;00m n \u001b[39mand\u001b[39;00m b:\n\u001b[1;32m    <a href='file:///home/debashish/anaconda3/lib/python3.8/http/client.py?line=504'>505</a>\u001b[0m     \u001b[39m# Ideally, we would raise IncompleteRead if the content-length\u001b[39;00m\n\u001b[1;32m    <a href='file:///home/debashish/anaconda3/lib/python3.8/http/client.py?line=505'>506</a>\u001b[0m     \u001b[39m# wasn't satisfied, but it might break compatibility.\u001b[39;00m\n\u001b[1;32m    <a href='file:///home/debashish/anaconda3/lib/python3.8/http/client.py?line=506'>507</a>\u001b[0m     \u001b[39mself\u001b[39m\u001b[39m.\u001b[39m_close_conn()\n",
      "File \u001b[0;32m~/anaconda3/lib/python3.8/socket.py:669\u001b[0m, in \u001b[0;36mSocketIO.readinto\u001b[0;34m(self, b)\u001b[0m\n\u001b[1;32m    <a href='file:///home/debashish/anaconda3/lib/python3.8/socket.py?line=666'>667</a>\u001b[0m \u001b[39mwhile\u001b[39;00m \u001b[39mTrue\u001b[39;00m:\n\u001b[1;32m    <a href='file:///home/debashish/anaconda3/lib/python3.8/socket.py?line=667'>668</a>\u001b[0m     \u001b[39mtry\u001b[39;00m:\n\u001b[0;32m--> <a href='file:///home/debashish/anaconda3/lib/python3.8/socket.py?line=668'>669</a>\u001b[0m         \u001b[39mreturn\u001b[39;00m \u001b[39mself\u001b[39;49m\u001b[39m.\u001b[39;49m_sock\u001b[39m.\u001b[39;49mrecv_into(b)\n\u001b[1;32m    <a href='file:///home/debashish/anaconda3/lib/python3.8/socket.py?line=669'>670</a>\u001b[0m     \u001b[39mexcept\u001b[39;00m timeout:\n\u001b[1;32m    <a href='file:///home/debashish/anaconda3/lib/python3.8/socket.py?line=670'>671</a>\u001b[0m         \u001b[39mself\u001b[39m\u001b[39m.\u001b[39m_timeout_occurred \u001b[39m=\u001b[39m \u001b[39mTrue\u001b[39;00m\n",
      "File \u001b[0;32m~/anaconda3/lib/python3.8/ssl.py:1241\u001b[0m, in \u001b[0;36mSSLSocket.recv_into\u001b[0;34m(self, buffer, nbytes, flags)\u001b[0m\n\u001b[1;32m   <a href='file:///home/debashish/anaconda3/lib/python3.8/ssl.py?line=1236'>1237</a>\u001b[0m     \u001b[39mif\u001b[39;00m flags \u001b[39m!=\u001b[39m \u001b[39m0\u001b[39m:\n\u001b[1;32m   <a href='file:///home/debashish/anaconda3/lib/python3.8/ssl.py?line=1237'>1238</a>\u001b[0m         \u001b[39mraise\u001b[39;00m \u001b[39mValueError\u001b[39;00m(\n\u001b[1;32m   <a href='file:///home/debashish/anaconda3/lib/python3.8/ssl.py?line=1238'>1239</a>\u001b[0m           \u001b[39m\"\u001b[39m\u001b[39mnon-zero flags not allowed in calls to recv_into() on \u001b[39m\u001b[39m%s\u001b[39;00m\u001b[39m\"\u001b[39m \u001b[39m%\u001b[39m\n\u001b[1;32m   <a href='file:///home/debashish/anaconda3/lib/python3.8/ssl.py?line=1239'>1240</a>\u001b[0m           \u001b[39mself\u001b[39m\u001b[39m.\u001b[39m\u001b[39m__class__\u001b[39m)\n\u001b[0;32m-> <a href='file:///home/debashish/anaconda3/lib/python3.8/ssl.py?line=1240'>1241</a>\u001b[0m     \u001b[39mreturn\u001b[39;00m \u001b[39mself\u001b[39;49m\u001b[39m.\u001b[39;49mread(nbytes, buffer)\n\u001b[1;32m   <a href='file:///home/debashish/anaconda3/lib/python3.8/ssl.py?line=1241'>1242</a>\u001b[0m \u001b[39melse\u001b[39;00m:\n\u001b[1;32m   <a href='file:///home/debashish/anaconda3/lib/python3.8/ssl.py?line=1242'>1243</a>\u001b[0m     \u001b[39mreturn\u001b[39;00m \u001b[39msuper\u001b[39m()\u001b[39m.\u001b[39mrecv_into(buffer, nbytes, flags)\n",
      "File \u001b[0;32m~/anaconda3/lib/python3.8/ssl.py:1099\u001b[0m, in \u001b[0;36mSSLSocket.read\u001b[0;34m(self, len, buffer)\u001b[0m\n\u001b[1;32m   <a href='file:///home/debashish/anaconda3/lib/python3.8/ssl.py?line=1096'>1097</a>\u001b[0m \u001b[39mtry\u001b[39;00m:\n\u001b[1;32m   <a href='file:///home/debashish/anaconda3/lib/python3.8/ssl.py?line=1097'>1098</a>\u001b[0m     \u001b[39mif\u001b[39;00m buffer \u001b[39mis\u001b[39;00m \u001b[39mnot\u001b[39;00m \u001b[39mNone\u001b[39;00m:\n\u001b[0;32m-> <a href='file:///home/debashish/anaconda3/lib/python3.8/ssl.py?line=1098'>1099</a>\u001b[0m         \u001b[39mreturn\u001b[39;00m \u001b[39mself\u001b[39;49m\u001b[39m.\u001b[39;49m_sslobj\u001b[39m.\u001b[39;49mread(\u001b[39mlen\u001b[39;49m, buffer)\n\u001b[1;32m   <a href='file:///home/debashish/anaconda3/lib/python3.8/ssl.py?line=1099'>1100</a>\u001b[0m     \u001b[39melse\u001b[39;00m:\n\u001b[1;32m   <a href='file:///home/debashish/anaconda3/lib/python3.8/ssl.py?line=1100'>1101</a>\u001b[0m         \u001b[39mreturn\u001b[39;00m \u001b[39mself\u001b[39m\u001b[39m.\u001b[39m_sslobj\u001b[39m.\u001b[39mread(\u001b[39mlen\u001b[39m)\n",
      "\u001b[0;31mKeyboardInterrupt\u001b[0m: "
     ]
    }
   ],
   "source": [
    "#loading universal sentence encoder\n",
    "\n",
    "import tensorflow_hub as hub\n",
    "# Load pre-trained universal sentence encoder model\n",
    "use_embed = hub.load(\"https://tfhub.dev/google/universal-sentence-encoder/4\")\n",
    "#elmo_embed = hub.Module(\"https://tfhub.dev/google/elmo/3\", trainable=True)"
   ]
  },
  {
   "cell_type": "code",
   "execution_count": null,
   "metadata": {
    "id": "-LoX3HCa94G7"
   },
   "outputs": [],
   "source": [
    "def get_use_embedding(sentence):\n",
    "  embedding = use_embed([sentence])\n",
    "  embedding = embedding.numpy()\n",
    "  return embedding[0]"
   ]
  },
  {
   "cell_type": "code",
   "execution_count": 12,
   "metadata": {
    "id": "uCTw6H_sPg_m"
   },
   "outputs": [
    {
     "name": "stderr",
     "output_type": "stream",
     "text": [
      "Downloading: 100%|██████████| 399/399 [00:00<00:00, 104kB/s]\n",
      "Downloading: 100%|██████████| 625/625 [00:00<00:00, 113kB/s]\n",
      "Downloading: 100%|██████████| 226k/226k [00:07<00:00, 33.0kB/s] \n",
      "Downloading: 100%|██████████| 455k/455k [00:13<00:00, 34.6kB/s] \n",
      "Downloading: 100%|██████████| 2.00/2.00 [00:00<00:00, 468B/s]\n",
      "Downloading: 100%|██████████| 112/112 [00:00<00:00, 28.3kB/s]\n",
      "Downloading:   3%|▎         | 13.4M/418M [00:20<06:26, 1.10MB/s]  "
     ]
    },
    {
     "ename": "KeyboardInterrupt",
     "evalue": "",
     "output_type": "error",
     "traceback": [
      "\u001b[0;31m---------------------------------------------------------------------------\u001b[0m",
      "\u001b[0;31mKeyboardInterrupt\u001b[0m                         Traceback (most recent call last)",
      "\u001b[1;32m/home/debashish/Downloads/smai/Assignment3/rollnumber_Assignment3_Q4.ipynb Cell 16'\u001b[0m in \u001b[0;36m<cell line: 14>\u001b[0;34m()\u001b[0m\n\u001b[1;32m     <a href='vscode-notebook-cell:/home/debashish/Downloads/smai/Assignment3/rollnumber_Assignment3_Q4.ipynb#ch0000015?line=11'>12</a>\u001b[0m \u001b[39m# Load model from HuggingFace Hub\u001b[39;00m\n\u001b[1;32m     <a href='vscode-notebook-cell:/home/debashish/Downloads/smai/Assignment3/rollnumber_Assignment3_Q4.ipynb#ch0000015?line=12'>13</a>\u001b[0m tokenizer \u001b[39m=\u001b[39m AutoTokenizer\u001b[39m.\u001b[39mfrom_pretrained(\u001b[39m'\u001b[39m\u001b[39msentence-transformers/bert-base-nli-mean-tokens\u001b[39m\u001b[39m'\u001b[39m)\n\u001b[0;32m---> <a href='vscode-notebook-cell:/home/debashish/Downloads/smai/Assignment3/rollnumber_Assignment3_Q4.ipynb#ch0000015?line=13'>14</a>\u001b[0m model \u001b[39m=\u001b[39m AutoModel\u001b[39m.\u001b[39;49mfrom_pretrained(\u001b[39m'\u001b[39;49m\u001b[39msentence-transformers/bert-base-nli-mean-tokens\u001b[39;49m\u001b[39m'\u001b[39;49m)\n\u001b[1;32m     <a href='vscode-notebook-cell:/home/debashish/Downloads/smai/Assignment3/rollnumber_Assignment3_Q4.ipynb#ch0000015?line=16'>17</a>\u001b[0m \u001b[39mdef\u001b[39;00m \u001b[39mget_bert_embedding\u001b[39m(sentence):\n\u001b[1;32m     <a href='vscode-notebook-cell:/home/debashish/Downloads/smai/Assignment3/rollnumber_Assignment3_Q4.ipynb#ch0000015?line=17'>18</a>\u001b[0m   encoded_input \u001b[39m=\u001b[39m tokenizer(sentence, padding\u001b[39m=\u001b[39m\u001b[39mTrue\u001b[39;00m, truncation\u001b[39m=\u001b[39m\u001b[39mTrue\u001b[39;00m, return_tensors\u001b[39m=\u001b[39m\u001b[39m'\u001b[39m\u001b[39mpt\u001b[39m\u001b[39m'\u001b[39m)\n",
      "File \u001b[0;32m~/anaconda3/lib/python3.8/site-packages/transformers/models/auto/auto_factory.py:446\u001b[0m, in \u001b[0;36m_BaseAutoModelClass.from_pretrained\u001b[0;34m(cls, pretrained_model_name_or_path, *model_args, **kwargs)\u001b[0m\n\u001b[1;32m    <a href='file:///home/debashish/anaconda3/lib/python3.8/site-packages/transformers/models/auto/auto_factory.py?line=443'>444</a>\u001b[0m \u001b[39melif\u001b[39;00m \u001b[39mtype\u001b[39m(config) \u001b[39min\u001b[39;00m \u001b[39mcls\u001b[39m\u001b[39m.\u001b[39m_model_mapping\u001b[39m.\u001b[39mkeys():\n\u001b[1;32m    <a href='file:///home/debashish/anaconda3/lib/python3.8/site-packages/transformers/models/auto/auto_factory.py?line=444'>445</a>\u001b[0m     model_class \u001b[39m=\u001b[39m _get_model_class(config, \u001b[39mcls\u001b[39m\u001b[39m.\u001b[39m_model_mapping)\n\u001b[0;32m--> <a href='file:///home/debashish/anaconda3/lib/python3.8/site-packages/transformers/models/auto/auto_factory.py?line=445'>446</a>\u001b[0m     \u001b[39mreturn\u001b[39;00m model_class\u001b[39m.\u001b[39;49mfrom_pretrained(pretrained_model_name_or_path, \u001b[39m*\u001b[39;49mmodel_args, config\u001b[39m=\u001b[39;49mconfig, \u001b[39m*\u001b[39;49m\u001b[39m*\u001b[39;49mkwargs)\n\u001b[1;32m    <a href='file:///home/debashish/anaconda3/lib/python3.8/site-packages/transformers/models/auto/auto_factory.py?line=446'>447</a>\u001b[0m \u001b[39mraise\u001b[39;00m \u001b[39mValueError\u001b[39;00m(\n\u001b[1;32m    <a href='file:///home/debashish/anaconda3/lib/python3.8/site-packages/transformers/models/auto/auto_factory.py?line=447'>448</a>\u001b[0m     \u001b[39mf\u001b[39m\u001b[39m\"\u001b[39m\u001b[39mUnrecognized configuration class \u001b[39m\u001b[39m{\u001b[39;00mconfig\u001b[39m.\u001b[39m\u001b[39m__class__\u001b[39m\u001b[39m}\u001b[39;00m\u001b[39m for this kind of AutoModel: \u001b[39m\u001b[39m{\u001b[39;00m\u001b[39mcls\u001b[39m\u001b[39m.\u001b[39m\u001b[39m__name__\u001b[39m\u001b[39m}\u001b[39;00m\u001b[39m.\u001b[39m\u001b[39m\\n\u001b[39;00m\u001b[39m\"\u001b[39m\n\u001b[1;32m    <a href='file:///home/debashish/anaconda3/lib/python3.8/site-packages/transformers/models/auto/auto_factory.py?line=448'>449</a>\u001b[0m     \u001b[39mf\u001b[39m\u001b[39m\"\u001b[39m\u001b[39mModel type should be one of \u001b[39m\u001b[39m{\u001b[39;00m\u001b[39m'\u001b[39m\u001b[39m, \u001b[39m\u001b[39m'\u001b[39m\u001b[39m.\u001b[39mjoin(c\u001b[39m.\u001b[39m\u001b[39m__name__\u001b[39m \u001b[39mfor\u001b[39;00m c \u001b[39min\u001b[39;00m \u001b[39mcls\u001b[39m\u001b[39m.\u001b[39m_model_mapping\u001b[39m.\u001b[39mkeys())\u001b[39m}\u001b[39;00m\u001b[39m.\u001b[39m\u001b[39m\"\u001b[39m\n\u001b[1;32m    <a href='file:///home/debashish/anaconda3/lib/python3.8/site-packages/transformers/models/auto/auto_factory.py?line=449'>450</a>\u001b[0m )\n",
      "File \u001b[0;32m~/anaconda3/lib/python3.8/site-packages/transformers/modeling_utils.py:1671\u001b[0m, in \u001b[0;36mPreTrainedModel.from_pretrained\u001b[0;34m(cls, pretrained_model_name_or_path, *model_args, **kwargs)\u001b[0m\n\u001b[1;32m   <a href='file:///home/debashish/anaconda3/lib/python3.8/site-packages/transformers/modeling_utils.py?line=1661'>1662</a>\u001b[0m     archive_file \u001b[39m=\u001b[39m hf_bucket_url(\n\u001b[1;32m   <a href='file:///home/debashish/anaconda3/lib/python3.8/site-packages/transformers/modeling_utils.py?line=1662'>1663</a>\u001b[0m         pretrained_model_name_or_path,\n\u001b[1;32m   <a href='file:///home/debashish/anaconda3/lib/python3.8/site-packages/transformers/modeling_utils.py?line=1663'>1664</a>\u001b[0m         filename\u001b[39m=\u001b[39mfilename,\n\u001b[1;32m   <a href='file:///home/debashish/anaconda3/lib/python3.8/site-packages/transformers/modeling_utils.py?line=1664'>1665</a>\u001b[0m         revision\u001b[39m=\u001b[39mrevision,\n\u001b[1;32m   <a href='file:///home/debashish/anaconda3/lib/python3.8/site-packages/transformers/modeling_utils.py?line=1665'>1666</a>\u001b[0m         mirror\u001b[39m=\u001b[39mmirror,\n\u001b[1;32m   <a href='file:///home/debashish/anaconda3/lib/python3.8/site-packages/transformers/modeling_utils.py?line=1666'>1667</a>\u001b[0m     )\n\u001b[1;32m   <a href='file:///home/debashish/anaconda3/lib/python3.8/site-packages/transformers/modeling_utils.py?line=1668'>1669</a>\u001b[0m \u001b[39mtry\u001b[39;00m:\n\u001b[1;32m   <a href='file:///home/debashish/anaconda3/lib/python3.8/site-packages/transformers/modeling_utils.py?line=1669'>1670</a>\u001b[0m     \u001b[39m# Load from URL or cache if already cached\u001b[39;00m\n\u001b[0;32m-> <a href='file:///home/debashish/anaconda3/lib/python3.8/site-packages/transformers/modeling_utils.py?line=1670'>1671</a>\u001b[0m     resolved_archive_file \u001b[39m=\u001b[39m cached_path(\n\u001b[1;32m   <a href='file:///home/debashish/anaconda3/lib/python3.8/site-packages/transformers/modeling_utils.py?line=1671'>1672</a>\u001b[0m         archive_file,\n\u001b[1;32m   <a href='file:///home/debashish/anaconda3/lib/python3.8/site-packages/transformers/modeling_utils.py?line=1672'>1673</a>\u001b[0m         cache_dir\u001b[39m=\u001b[39;49mcache_dir,\n\u001b[1;32m   <a href='file:///home/debashish/anaconda3/lib/python3.8/site-packages/transformers/modeling_utils.py?line=1673'>1674</a>\u001b[0m         force_download\u001b[39m=\u001b[39;49mforce_download,\n\u001b[1;32m   <a href='file:///home/debashish/anaconda3/lib/python3.8/site-packages/transformers/modeling_utils.py?line=1674'>1675</a>\u001b[0m         proxies\u001b[39m=\u001b[39;49mproxies,\n\u001b[1;32m   <a href='file:///home/debashish/anaconda3/lib/python3.8/site-packages/transformers/modeling_utils.py?line=1675'>1676</a>\u001b[0m         resume_download\u001b[39m=\u001b[39;49mresume_download,\n\u001b[1;32m   <a href='file:///home/debashish/anaconda3/lib/python3.8/site-packages/transformers/modeling_utils.py?line=1676'>1677</a>\u001b[0m         local_files_only\u001b[39m=\u001b[39;49mlocal_files_only,\n\u001b[1;32m   <a href='file:///home/debashish/anaconda3/lib/python3.8/site-packages/transformers/modeling_utils.py?line=1677'>1678</a>\u001b[0m         use_auth_token\u001b[39m=\u001b[39;49muse_auth_token,\n\u001b[1;32m   <a href='file:///home/debashish/anaconda3/lib/python3.8/site-packages/transformers/modeling_utils.py?line=1678'>1679</a>\u001b[0m         user_agent\u001b[39m=\u001b[39;49muser_agent,\n\u001b[1;32m   <a href='file:///home/debashish/anaconda3/lib/python3.8/site-packages/transformers/modeling_utils.py?line=1679'>1680</a>\u001b[0m     )\n\u001b[1;32m   <a href='file:///home/debashish/anaconda3/lib/python3.8/site-packages/transformers/modeling_utils.py?line=1681'>1682</a>\u001b[0m \u001b[39mexcept\u001b[39;00m RepositoryNotFoundError:\n\u001b[1;32m   <a href='file:///home/debashish/anaconda3/lib/python3.8/site-packages/transformers/modeling_utils.py?line=1682'>1683</a>\u001b[0m     \u001b[39mraise\u001b[39;00m \u001b[39mEnvironmentError\u001b[39;00m(\n\u001b[1;32m   <a href='file:///home/debashish/anaconda3/lib/python3.8/site-packages/transformers/modeling_utils.py?line=1683'>1684</a>\u001b[0m         \u001b[39mf\u001b[39m\u001b[39m\"\u001b[39m\u001b[39m{\u001b[39;00mpretrained_model_name_or_path\u001b[39m}\u001b[39;00m\u001b[39m is not a local folder and is not a valid model identifier \u001b[39m\u001b[39m\"\u001b[39m\n\u001b[1;32m   <a href='file:///home/debashish/anaconda3/lib/python3.8/site-packages/transformers/modeling_utils.py?line=1684'>1685</a>\u001b[0m         \u001b[39m\"\u001b[39m\u001b[39mlisted on \u001b[39m\u001b[39m'\u001b[39m\u001b[39mhttps://huggingface.co/models\u001b[39m\u001b[39m'\u001b[39m\u001b[39m\\n\u001b[39;00m\u001b[39mIf this is a private repository, make sure to pass a \u001b[39m\u001b[39m\"\u001b[39m\n\u001b[1;32m   <a href='file:///home/debashish/anaconda3/lib/python3.8/site-packages/transformers/modeling_utils.py?line=1685'>1686</a>\u001b[0m         \u001b[39m\"\u001b[39m\u001b[39mtoken having permission to this repo with `use_auth_token` or log in with `huggingface-cli \u001b[39m\u001b[39m\"\u001b[39m\n\u001b[1;32m   <a href='file:///home/debashish/anaconda3/lib/python3.8/site-packages/transformers/modeling_utils.py?line=1686'>1687</a>\u001b[0m         \u001b[39m\"\u001b[39m\u001b[39mlogin` and pass `use_auth_token=True`.\u001b[39m\u001b[39m\"\u001b[39m\n\u001b[1;32m   <a href='file:///home/debashish/anaconda3/lib/python3.8/site-packages/transformers/modeling_utils.py?line=1687'>1688</a>\u001b[0m     )\n",
      "File \u001b[0;32m~/anaconda3/lib/python3.8/site-packages/transformers/utils/hub.py:282\u001b[0m, in \u001b[0;36mcached_path\u001b[0;34m(url_or_filename, cache_dir, force_download, proxies, resume_download, user_agent, extract_compressed_file, force_extract, use_auth_token, local_files_only)\u001b[0m\n\u001b[1;32m    <a href='file:///home/debashish/anaconda3/lib/python3.8/site-packages/transformers/utils/hub.py?line=277'>278</a>\u001b[0m     local_files_only \u001b[39m=\u001b[39m \u001b[39mTrue\u001b[39;00m\n\u001b[1;32m    <a href='file:///home/debashish/anaconda3/lib/python3.8/site-packages/transformers/utils/hub.py?line=279'>280</a>\u001b[0m \u001b[39mif\u001b[39;00m is_remote_url(url_or_filename):\n\u001b[1;32m    <a href='file:///home/debashish/anaconda3/lib/python3.8/site-packages/transformers/utils/hub.py?line=280'>281</a>\u001b[0m     \u001b[39m# URL, so get it from the cache (downloading if necessary)\u001b[39;00m\n\u001b[0;32m--> <a href='file:///home/debashish/anaconda3/lib/python3.8/site-packages/transformers/utils/hub.py?line=281'>282</a>\u001b[0m     output_path \u001b[39m=\u001b[39m get_from_cache(\n\u001b[1;32m    <a href='file:///home/debashish/anaconda3/lib/python3.8/site-packages/transformers/utils/hub.py?line=282'>283</a>\u001b[0m         url_or_filename,\n\u001b[1;32m    <a href='file:///home/debashish/anaconda3/lib/python3.8/site-packages/transformers/utils/hub.py?line=283'>284</a>\u001b[0m         cache_dir\u001b[39m=\u001b[39;49mcache_dir,\n\u001b[1;32m    <a href='file:///home/debashish/anaconda3/lib/python3.8/site-packages/transformers/utils/hub.py?line=284'>285</a>\u001b[0m         force_download\u001b[39m=\u001b[39;49mforce_download,\n\u001b[1;32m    <a href='file:///home/debashish/anaconda3/lib/python3.8/site-packages/transformers/utils/hub.py?line=285'>286</a>\u001b[0m         proxies\u001b[39m=\u001b[39;49mproxies,\n\u001b[1;32m    <a href='file:///home/debashish/anaconda3/lib/python3.8/site-packages/transformers/utils/hub.py?line=286'>287</a>\u001b[0m         resume_download\u001b[39m=\u001b[39;49mresume_download,\n\u001b[1;32m    <a href='file:///home/debashish/anaconda3/lib/python3.8/site-packages/transformers/utils/hub.py?line=287'>288</a>\u001b[0m         user_agent\u001b[39m=\u001b[39;49muser_agent,\n\u001b[1;32m    <a href='file:///home/debashish/anaconda3/lib/python3.8/site-packages/transformers/utils/hub.py?line=288'>289</a>\u001b[0m         use_auth_token\u001b[39m=\u001b[39;49muse_auth_token,\n\u001b[1;32m    <a href='file:///home/debashish/anaconda3/lib/python3.8/site-packages/transformers/utils/hub.py?line=289'>290</a>\u001b[0m         local_files_only\u001b[39m=\u001b[39;49mlocal_files_only,\n\u001b[1;32m    <a href='file:///home/debashish/anaconda3/lib/python3.8/site-packages/transformers/utils/hub.py?line=290'>291</a>\u001b[0m     )\n\u001b[1;32m    <a href='file:///home/debashish/anaconda3/lib/python3.8/site-packages/transformers/utils/hub.py?line=291'>292</a>\u001b[0m \u001b[39melif\u001b[39;00m os\u001b[39m.\u001b[39mpath\u001b[39m.\u001b[39mexists(url_or_filename):\n\u001b[1;32m    <a href='file:///home/debashish/anaconda3/lib/python3.8/site-packages/transformers/utils/hub.py?line=292'>293</a>\u001b[0m     \u001b[39m# File, and it exists.\u001b[39;00m\n\u001b[1;32m    <a href='file:///home/debashish/anaconda3/lib/python3.8/site-packages/transformers/utils/hub.py?line=293'>294</a>\u001b[0m     output_path \u001b[39m=\u001b[39m url_or_filename\n",
      "File \u001b[0;32m~/anaconda3/lib/python3.8/site-packages/transformers/utils/hub.py:585\u001b[0m, in \u001b[0;36mget_from_cache\u001b[0;34m(url, cache_dir, force_download, proxies, etag_timeout, resume_download, user_agent, use_auth_token, local_files_only)\u001b[0m\n\u001b[1;32m    <a href='file:///home/debashish/anaconda3/lib/python3.8/site-packages/transformers/utils/hub.py?line=581'>582</a>\u001b[0m \u001b[39mwith\u001b[39;00m temp_file_manager() \u001b[39mas\u001b[39;00m temp_file:\n\u001b[1;32m    <a href='file:///home/debashish/anaconda3/lib/python3.8/site-packages/transformers/utils/hub.py?line=582'>583</a>\u001b[0m     logger\u001b[39m.\u001b[39minfo(\u001b[39mf\u001b[39m\u001b[39m\"\u001b[39m\u001b[39m{\u001b[39;00murl\u001b[39m}\u001b[39;00m\u001b[39m not found in cache or force_download set to True, downloading to \u001b[39m\u001b[39m{\u001b[39;00mtemp_file\u001b[39m.\u001b[39mname\u001b[39m}\u001b[39;00m\u001b[39m\"\u001b[39m)\n\u001b[0;32m--> <a href='file:///home/debashish/anaconda3/lib/python3.8/site-packages/transformers/utils/hub.py?line=584'>585</a>\u001b[0m     http_get(url_to_download, temp_file, proxies\u001b[39m=\u001b[39;49mproxies, resume_size\u001b[39m=\u001b[39;49mresume_size, headers\u001b[39m=\u001b[39;49mheaders)\n\u001b[1;32m    <a href='file:///home/debashish/anaconda3/lib/python3.8/site-packages/transformers/utils/hub.py?line=586'>587</a>\u001b[0m logger\u001b[39m.\u001b[39minfo(\u001b[39mf\u001b[39m\u001b[39m\"\u001b[39m\u001b[39mstoring \u001b[39m\u001b[39m{\u001b[39;00murl\u001b[39m}\u001b[39;00m\u001b[39m in cache at \u001b[39m\u001b[39m{\u001b[39;00mcache_path\u001b[39m}\u001b[39;00m\u001b[39m\"\u001b[39m)\n\u001b[1;32m    <a href='file:///home/debashish/anaconda3/lib/python3.8/site-packages/transformers/utils/hub.py?line=587'>588</a>\u001b[0m os\u001b[39m.\u001b[39mreplace(temp_file\u001b[39m.\u001b[39mname, cache_path)\n",
      "File \u001b[0;32m~/anaconda3/lib/python3.8/site-packages/transformers/utils/hub.py:437\u001b[0m, in \u001b[0;36mhttp_get\u001b[0;34m(url, temp_file, proxies, resume_size, headers)\u001b[0m\n\u001b[1;32m    <a href='file:///home/debashish/anaconda3/lib/python3.8/site-packages/transformers/utils/hub.py?line=426'>427</a>\u001b[0m \u001b[39m# `tqdm` behavior is determined by `utils.logging.is_progress_bar_enabled()`\u001b[39;00m\n\u001b[1;32m    <a href='file:///home/debashish/anaconda3/lib/python3.8/site-packages/transformers/utils/hub.py?line=427'>428</a>\u001b[0m \u001b[39m# and can be set using `utils.logging.enable/disable_progress_bar()`\u001b[39;00m\n\u001b[1;32m    <a href='file:///home/debashish/anaconda3/lib/python3.8/site-packages/transformers/utils/hub.py?line=428'>429</a>\u001b[0m progress \u001b[39m=\u001b[39m tqdm(\n\u001b[1;32m    <a href='file:///home/debashish/anaconda3/lib/python3.8/site-packages/transformers/utils/hub.py?line=429'>430</a>\u001b[0m     unit\u001b[39m=\u001b[39m\u001b[39m\"\u001b[39m\u001b[39mB\u001b[39m\u001b[39m\"\u001b[39m,\n\u001b[1;32m    <a href='file:///home/debashish/anaconda3/lib/python3.8/site-packages/transformers/utils/hub.py?line=430'>431</a>\u001b[0m     unit_scale\u001b[39m=\u001b[39m\u001b[39mTrue\u001b[39;00m,\n\u001b[0;32m   (...)\u001b[0m\n\u001b[1;32m    <a href='file:///home/debashish/anaconda3/lib/python3.8/site-packages/transformers/utils/hub.py?line=434'>435</a>\u001b[0m     desc\u001b[39m=\u001b[39m\u001b[39m\"\u001b[39m\u001b[39mDownloading\u001b[39m\u001b[39m\"\u001b[39m,\n\u001b[1;32m    <a href='file:///home/debashish/anaconda3/lib/python3.8/site-packages/transformers/utils/hub.py?line=435'>436</a>\u001b[0m )\n\u001b[0;32m--> <a href='file:///home/debashish/anaconda3/lib/python3.8/site-packages/transformers/utils/hub.py?line=436'>437</a>\u001b[0m \u001b[39mfor\u001b[39;00m chunk \u001b[39min\u001b[39;00m r\u001b[39m.\u001b[39miter_content(chunk_size\u001b[39m=\u001b[39m\u001b[39m1024\u001b[39m):\n\u001b[1;32m    <a href='file:///home/debashish/anaconda3/lib/python3.8/site-packages/transformers/utils/hub.py?line=437'>438</a>\u001b[0m     \u001b[39mif\u001b[39;00m chunk:  \u001b[39m# filter out keep-alive new chunks\u001b[39;00m\n\u001b[1;32m    <a href='file:///home/debashish/anaconda3/lib/python3.8/site-packages/transformers/utils/hub.py?line=438'>439</a>\u001b[0m         progress\u001b[39m.\u001b[39mupdate(\u001b[39mlen\u001b[39m(chunk))\n",
      "File \u001b[0;32m~/anaconda3/lib/python3.8/site-packages/requests/models.py:760\u001b[0m, in \u001b[0;36mResponse.iter_content.<locals>.generate\u001b[0;34m()\u001b[0m\n\u001b[1;32m    <a href='file:///home/debashish/anaconda3/lib/python3.8/site-packages/requests/models.py?line=757'>758</a>\u001b[0m \u001b[39mif\u001b[39;00m \u001b[39mhasattr\u001b[39m(\u001b[39mself\u001b[39m\u001b[39m.\u001b[39mraw, \u001b[39m'\u001b[39m\u001b[39mstream\u001b[39m\u001b[39m'\u001b[39m):\n\u001b[1;32m    <a href='file:///home/debashish/anaconda3/lib/python3.8/site-packages/requests/models.py?line=758'>759</a>\u001b[0m     \u001b[39mtry\u001b[39;00m:\n\u001b[0;32m--> <a href='file:///home/debashish/anaconda3/lib/python3.8/site-packages/requests/models.py?line=759'>760</a>\u001b[0m         \u001b[39mfor\u001b[39;00m chunk \u001b[39min\u001b[39;00m \u001b[39mself\u001b[39m\u001b[39m.\u001b[39mraw\u001b[39m.\u001b[39mstream(chunk_size, decode_content\u001b[39m=\u001b[39m\u001b[39mTrue\u001b[39;00m):\n\u001b[1;32m    <a href='file:///home/debashish/anaconda3/lib/python3.8/site-packages/requests/models.py?line=760'>761</a>\u001b[0m             \u001b[39myield\u001b[39;00m chunk\n\u001b[1;32m    <a href='file:///home/debashish/anaconda3/lib/python3.8/site-packages/requests/models.py?line=761'>762</a>\u001b[0m     \u001b[39mexcept\u001b[39;00m ProtocolError \u001b[39mas\u001b[39;00m e:\n",
      "File \u001b[0;32m~/anaconda3/lib/python3.8/site-packages/urllib3/response.py:576\u001b[0m, in \u001b[0;36mHTTPResponse.stream\u001b[0;34m(self, amt, decode_content)\u001b[0m\n\u001b[1;32m    <a href='file:///home/debashish/anaconda3/lib/python3.8/site-packages/urllib3/response.py?line=573'>574</a>\u001b[0m \u001b[39melse\u001b[39;00m:\n\u001b[1;32m    <a href='file:///home/debashish/anaconda3/lib/python3.8/site-packages/urllib3/response.py?line=574'>575</a>\u001b[0m     \u001b[39mwhile\u001b[39;00m \u001b[39mnot\u001b[39;00m is_fp_closed(\u001b[39mself\u001b[39m\u001b[39m.\u001b[39m_fp):\n\u001b[0;32m--> <a href='file:///home/debashish/anaconda3/lib/python3.8/site-packages/urllib3/response.py?line=575'>576</a>\u001b[0m         data \u001b[39m=\u001b[39m \u001b[39mself\u001b[39;49m\u001b[39m.\u001b[39;49mread(amt\u001b[39m=\u001b[39;49mamt, decode_content\u001b[39m=\u001b[39;49mdecode_content)\n\u001b[1;32m    <a href='file:///home/debashish/anaconda3/lib/python3.8/site-packages/urllib3/response.py?line=577'>578</a>\u001b[0m         \u001b[39mif\u001b[39;00m data:\n\u001b[1;32m    <a href='file:///home/debashish/anaconda3/lib/python3.8/site-packages/urllib3/response.py?line=578'>579</a>\u001b[0m             \u001b[39myield\u001b[39;00m data\n",
      "File \u001b[0;32m~/anaconda3/lib/python3.8/site-packages/urllib3/response.py:519\u001b[0m, in \u001b[0;36mHTTPResponse.read\u001b[0;34m(self, amt, decode_content, cache_content)\u001b[0m\n\u001b[1;32m    <a href='file:///home/debashish/anaconda3/lib/python3.8/site-packages/urllib3/response.py?line=516'>517</a>\u001b[0m \u001b[39melse\u001b[39;00m:\n\u001b[1;32m    <a href='file:///home/debashish/anaconda3/lib/python3.8/site-packages/urllib3/response.py?line=517'>518</a>\u001b[0m     cache_content \u001b[39m=\u001b[39m \u001b[39mFalse\u001b[39;00m\n\u001b[0;32m--> <a href='file:///home/debashish/anaconda3/lib/python3.8/site-packages/urllib3/response.py?line=518'>519</a>\u001b[0m     data \u001b[39m=\u001b[39m \u001b[39mself\u001b[39;49m\u001b[39m.\u001b[39;49m_fp\u001b[39m.\u001b[39;49mread(amt) \u001b[39mif\u001b[39;00m \u001b[39mnot\u001b[39;00m fp_closed \u001b[39melse\u001b[39;00m \u001b[39mb\u001b[39m\u001b[39m\"\u001b[39m\u001b[39m\"\u001b[39m\n\u001b[1;32m    <a href='file:///home/debashish/anaconda3/lib/python3.8/site-packages/urllib3/response.py?line=519'>520</a>\u001b[0m     \u001b[39mif\u001b[39;00m (\n\u001b[1;32m    <a href='file:///home/debashish/anaconda3/lib/python3.8/site-packages/urllib3/response.py?line=520'>521</a>\u001b[0m         amt \u001b[39m!=\u001b[39m \u001b[39m0\u001b[39m \u001b[39mand\u001b[39;00m \u001b[39mnot\u001b[39;00m data\n\u001b[1;32m    <a href='file:///home/debashish/anaconda3/lib/python3.8/site-packages/urllib3/response.py?line=521'>522</a>\u001b[0m     ):  \u001b[39m# Platform-specific: Buggy versions of Python.\u001b[39;00m\n\u001b[0;32m   (...)\u001b[0m\n\u001b[1;32m    <a href='file:///home/debashish/anaconda3/lib/python3.8/site-packages/urllib3/response.py?line=527'>528</a>\u001b[0m         \u001b[39m# not properly close the connection in all cases. There is\u001b[39;00m\n\u001b[1;32m    <a href='file:///home/debashish/anaconda3/lib/python3.8/site-packages/urllib3/response.py?line=528'>529</a>\u001b[0m         \u001b[39m# no harm in redundantly calling close.\u001b[39;00m\n\u001b[1;32m    <a href='file:///home/debashish/anaconda3/lib/python3.8/site-packages/urllib3/response.py?line=529'>530</a>\u001b[0m         \u001b[39mself\u001b[39m\u001b[39m.\u001b[39m_fp\u001b[39m.\u001b[39mclose()\n",
      "File \u001b[0;32m~/anaconda3/lib/python3.8/http/client.py:459\u001b[0m, in \u001b[0;36mHTTPResponse.read\u001b[0;34m(self, amt)\u001b[0m\n\u001b[1;32m    <a href='file:///home/debashish/anaconda3/lib/python3.8/http/client.py?line=455'>456</a>\u001b[0m \u001b[39mif\u001b[39;00m amt \u001b[39mis\u001b[39;00m \u001b[39mnot\u001b[39;00m \u001b[39mNone\u001b[39;00m:\n\u001b[1;32m    <a href='file:///home/debashish/anaconda3/lib/python3.8/http/client.py?line=456'>457</a>\u001b[0m     \u001b[39m# Amount is given, implement using readinto\u001b[39;00m\n\u001b[1;32m    <a href='file:///home/debashish/anaconda3/lib/python3.8/http/client.py?line=457'>458</a>\u001b[0m     b \u001b[39m=\u001b[39m \u001b[39mbytearray\u001b[39m(amt)\n\u001b[0;32m--> <a href='file:///home/debashish/anaconda3/lib/python3.8/http/client.py?line=458'>459</a>\u001b[0m     n \u001b[39m=\u001b[39m \u001b[39mself\u001b[39;49m\u001b[39m.\u001b[39;49mreadinto(b)\n\u001b[1;32m    <a href='file:///home/debashish/anaconda3/lib/python3.8/http/client.py?line=459'>460</a>\u001b[0m     \u001b[39mreturn\u001b[39;00m \u001b[39mmemoryview\u001b[39m(b)[:n]\u001b[39m.\u001b[39mtobytes()\n\u001b[1;32m    <a href='file:///home/debashish/anaconda3/lib/python3.8/http/client.py?line=460'>461</a>\u001b[0m \u001b[39melse\u001b[39;00m:\n\u001b[1;32m    <a href='file:///home/debashish/anaconda3/lib/python3.8/http/client.py?line=461'>462</a>\u001b[0m     \u001b[39m# Amount is not given (unbounded read) so we must check self.length\u001b[39;00m\n\u001b[1;32m    <a href='file:///home/debashish/anaconda3/lib/python3.8/http/client.py?line=462'>463</a>\u001b[0m     \u001b[39m# and self.chunked\u001b[39;00m\n",
      "File \u001b[0;32m~/anaconda3/lib/python3.8/http/client.py:503\u001b[0m, in \u001b[0;36mHTTPResponse.readinto\u001b[0;34m(self, b)\u001b[0m\n\u001b[1;32m    <a href='file:///home/debashish/anaconda3/lib/python3.8/http/client.py?line=497'>498</a>\u001b[0m         b \u001b[39m=\u001b[39m \u001b[39mmemoryview\u001b[39m(b)[\u001b[39m0\u001b[39m:\u001b[39mself\u001b[39m\u001b[39m.\u001b[39mlength]\n\u001b[1;32m    <a href='file:///home/debashish/anaconda3/lib/python3.8/http/client.py?line=499'>500</a>\u001b[0m \u001b[39m# we do not use _safe_read() here because this may be a .will_close\u001b[39;00m\n\u001b[1;32m    <a href='file:///home/debashish/anaconda3/lib/python3.8/http/client.py?line=500'>501</a>\u001b[0m \u001b[39m# connection, and the user is reading more bytes than will be provided\u001b[39;00m\n\u001b[1;32m    <a href='file:///home/debashish/anaconda3/lib/python3.8/http/client.py?line=501'>502</a>\u001b[0m \u001b[39m# (for example, reading in 1k chunks)\u001b[39;00m\n\u001b[0;32m--> <a href='file:///home/debashish/anaconda3/lib/python3.8/http/client.py?line=502'>503</a>\u001b[0m n \u001b[39m=\u001b[39m \u001b[39mself\u001b[39;49m\u001b[39m.\u001b[39;49mfp\u001b[39m.\u001b[39;49mreadinto(b)\n\u001b[1;32m    <a href='file:///home/debashish/anaconda3/lib/python3.8/http/client.py?line=503'>504</a>\u001b[0m \u001b[39mif\u001b[39;00m \u001b[39mnot\u001b[39;00m n \u001b[39mand\u001b[39;00m b:\n\u001b[1;32m    <a href='file:///home/debashish/anaconda3/lib/python3.8/http/client.py?line=504'>505</a>\u001b[0m     \u001b[39m# Ideally, we would raise IncompleteRead if the content-length\u001b[39;00m\n\u001b[1;32m    <a href='file:///home/debashish/anaconda3/lib/python3.8/http/client.py?line=505'>506</a>\u001b[0m     \u001b[39m# wasn't satisfied, but it might break compatibility.\u001b[39;00m\n\u001b[1;32m    <a href='file:///home/debashish/anaconda3/lib/python3.8/http/client.py?line=506'>507</a>\u001b[0m     \u001b[39mself\u001b[39m\u001b[39m.\u001b[39m_close_conn()\n",
      "File \u001b[0;32m~/anaconda3/lib/python3.8/socket.py:669\u001b[0m, in \u001b[0;36mSocketIO.readinto\u001b[0;34m(self, b)\u001b[0m\n\u001b[1;32m    <a href='file:///home/debashish/anaconda3/lib/python3.8/socket.py?line=666'>667</a>\u001b[0m \u001b[39mwhile\u001b[39;00m \u001b[39mTrue\u001b[39;00m:\n\u001b[1;32m    <a href='file:///home/debashish/anaconda3/lib/python3.8/socket.py?line=667'>668</a>\u001b[0m     \u001b[39mtry\u001b[39;00m:\n\u001b[0;32m--> <a href='file:///home/debashish/anaconda3/lib/python3.8/socket.py?line=668'>669</a>\u001b[0m         \u001b[39mreturn\u001b[39;00m \u001b[39mself\u001b[39;49m\u001b[39m.\u001b[39;49m_sock\u001b[39m.\u001b[39;49mrecv_into(b)\n\u001b[1;32m    <a href='file:///home/debashish/anaconda3/lib/python3.8/socket.py?line=669'>670</a>\u001b[0m     \u001b[39mexcept\u001b[39;00m timeout:\n\u001b[1;32m    <a href='file:///home/debashish/anaconda3/lib/python3.8/socket.py?line=670'>671</a>\u001b[0m         \u001b[39mself\u001b[39m\u001b[39m.\u001b[39m_timeout_occurred \u001b[39m=\u001b[39m \u001b[39mTrue\u001b[39;00m\n",
      "File \u001b[0;32m~/anaconda3/lib/python3.8/ssl.py:1241\u001b[0m, in \u001b[0;36mSSLSocket.recv_into\u001b[0;34m(self, buffer, nbytes, flags)\u001b[0m\n\u001b[1;32m   <a href='file:///home/debashish/anaconda3/lib/python3.8/ssl.py?line=1236'>1237</a>\u001b[0m     \u001b[39mif\u001b[39;00m flags \u001b[39m!=\u001b[39m \u001b[39m0\u001b[39m:\n\u001b[1;32m   <a href='file:///home/debashish/anaconda3/lib/python3.8/ssl.py?line=1237'>1238</a>\u001b[0m         \u001b[39mraise\u001b[39;00m \u001b[39mValueError\u001b[39;00m(\n\u001b[1;32m   <a href='file:///home/debashish/anaconda3/lib/python3.8/ssl.py?line=1238'>1239</a>\u001b[0m           \u001b[39m\"\u001b[39m\u001b[39mnon-zero flags not allowed in calls to recv_into() on \u001b[39m\u001b[39m%s\u001b[39;00m\u001b[39m\"\u001b[39m \u001b[39m%\u001b[39m\n\u001b[1;32m   <a href='file:///home/debashish/anaconda3/lib/python3.8/ssl.py?line=1239'>1240</a>\u001b[0m           \u001b[39mself\u001b[39m\u001b[39m.\u001b[39m\u001b[39m__class__\u001b[39m)\n\u001b[0;32m-> <a href='file:///home/debashish/anaconda3/lib/python3.8/ssl.py?line=1240'>1241</a>\u001b[0m     \u001b[39mreturn\u001b[39;00m \u001b[39mself\u001b[39;49m\u001b[39m.\u001b[39;49mread(nbytes, buffer)\n\u001b[1;32m   <a href='file:///home/debashish/anaconda3/lib/python3.8/ssl.py?line=1241'>1242</a>\u001b[0m \u001b[39melse\u001b[39;00m:\n\u001b[1;32m   <a href='file:///home/debashish/anaconda3/lib/python3.8/ssl.py?line=1242'>1243</a>\u001b[0m     \u001b[39mreturn\u001b[39;00m \u001b[39msuper\u001b[39m()\u001b[39m.\u001b[39mrecv_into(buffer, nbytes, flags)\n",
      "File \u001b[0;32m~/anaconda3/lib/python3.8/ssl.py:1099\u001b[0m, in \u001b[0;36mSSLSocket.read\u001b[0;34m(self, len, buffer)\u001b[0m\n\u001b[1;32m   <a href='file:///home/debashish/anaconda3/lib/python3.8/ssl.py?line=1096'>1097</a>\u001b[0m \u001b[39mtry\u001b[39;00m:\n\u001b[1;32m   <a href='file:///home/debashish/anaconda3/lib/python3.8/ssl.py?line=1097'>1098</a>\u001b[0m     \u001b[39mif\u001b[39;00m buffer \u001b[39mis\u001b[39;00m \u001b[39mnot\u001b[39;00m \u001b[39mNone\u001b[39;00m:\n\u001b[0;32m-> <a href='file:///home/debashish/anaconda3/lib/python3.8/ssl.py?line=1098'>1099</a>\u001b[0m         \u001b[39mreturn\u001b[39;00m \u001b[39mself\u001b[39;49m\u001b[39m.\u001b[39;49m_sslobj\u001b[39m.\u001b[39;49mread(\u001b[39mlen\u001b[39;49m, buffer)\n\u001b[1;32m   <a href='file:///home/debashish/anaconda3/lib/python3.8/ssl.py?line=1099'>1100</a>\u001b[0m     \u001b[39melse\u001b[39;00m:\n\u001b[1;32m   <a href='file:///home/debashish/anaconda3/lib/python3.8/ssl.py?line=1100'>1101</a>\u001b[0m         \u001b[39mreturn\u001b[39;00m \u001b[39mself\u001b[39m\u001b[39m.\u001b[39m_sslobj\u001b[39m.\u001b[39mread(\u001b[39mlen\u001b[39m)\n",
      "\u001b[0;31mKeyboardInterrupt\u001b[0m: "
     ]
    },
    {
     "name": "stderr",
     "output_type": "stream",
     "text": [
      "Downloading:   3%|▎         | 13.5M/418M [00:36<06:26, 1.10MB/s]"
     ]
    }
   ],
   "source": [
    "#to obtain bert embeddings ( you need not completely understand how it works)\n",
    "#you can directly use the function get_bert_embedding to obtain the embedding\n",
    "\n",
    "\n",
    "#Mean Pooling - Take attention mask into account for correct averaging\n",
    "def mean_pooling(model_output, attention_mask):\n",
    "    token_embeddings = model_output[0] #First element of model_output contains all token embeddings\n",
    "    input_mask_expanded = attention_mask.unsqueeze(-1).expand(token_embeddings.size()).float()\n",
    "    return torch.sum(token_embeddings * input_mask_expanded, 1) / torch.clamp(input_mask_expanded.sum(1), min=1e-9)\n",
    "\n",
    "\n",
    "# Load model from HuggingFace Hub\n",
    "tokenizer = AutoTokenizer.from_pretrained('sentence-transformers/bert-base-nli-mean-tokens')\n",
    "model = AutoModel.from_pretrained('sentence-transformers/bert-base-nli-mean-tokens')\n",
    "\n",
    "\n",
    "def get_bert_embedding(sentence):\n",
    "  encoded_input = tokenizer(sentence, padding=True, truncation=True, return_tensors='pt')\n",
    "  with torch.no_grad():\n",
    "    model_output = model(**encoded_input)\n",
    "  sentence_embedding = mean_pooling(model_output, encoded_input['attention_mask'])\n",
    "  return sentence_embedding[0]\n"
   ]
  },
  {
   "cell_type": "code",
   "execution_count": null,
   "metadata": {
    "id": "A3eafXPxQYp4"
   },
   "outputs": [],
   "source": [
    "#Obtain X_test and X_train \n",
    "x_train_set=X[:100]\n",
    "x_test_set=test_X[:100]\n",
    "y_train_set=train_df[:100]\n",
    "y_test_set=test_df[:100]\n",
    "\n",
    "x_train=[]\n",
    "for sentence in x_train_set:\n",
    "    a=list(get_bert_embedding(sentence))\n",
    "    x_train.append(a)\n",
    "\n",
    "x_test=[]\n",
    "for sentence in x_test_set:\n",
    "    a=list(get_bert_embedding(sentence))\n",
    "    x_test.append(a)"
   ]
  },
  {
   "cell_type": "code",
   "execution_count": null,
   "metadata": {},
   "outputs": [],
   "source": [
    "y_train=y_train_set.drop(labels=['id','comment_text'],axis=1)\n",
    "y_test=y_test_set.drop(labels=['id','comment_text'],axis=1)"
   ]
  },
  {
   "cell_type": "markdown",
   "metadata": {
    "id": "BY4InEH5__Ea"
   },
   "source": [
    "# Classifiers\n",
    "Here, we use different classifiers for our classification problem. You can directly import classifiers for first two.\n",
    "\n",
    "\n",
    "*   Naive Bayes classifier\n",
    "*   Support Vector Machine\n",
    "*   Multi-layer Perceptron(MLP)"
   ]
  },
  {
   "cell_type": "code",
   "execution_count": null,
   "metadata": {
    "id": "G06b8xt7CIra"
   },
   "outputs": [],
   "source": [
    "#calculate the accuracies obtained, u can use sklearn metrics\n"
   ]
  },
  {
   "cell_type": "code",
   "execution_count": null,
   "metadata": {
    "id": "bS2_lOBIzM8u"
   },
   "outputs": [],
   "source": [
    "# Naive Bayes classifier "
   ]
  },
  {
   "cell_type": "code",
   "execution_count": null,
   "metadata": {
    "id": "VJ_02S_RzM6f"
   },
   "outputs": [],
   "source": [
    "#Support Vector Machines"
   ]
  },
  {
   "cell_type": "markdown",
   "metadata": {
    "id": "NHOBzVA7Cg35"
   },
   "source": [
    "Which classifier of the three performed better, and why do you think so ?\n",
    "\n",
    "Ans:"
   ]
  },
  {
   "cell_type": "markdown",
   "metadata": {
    "id": "NwsWLvpyCqya"
   },
   "source": [
    "#Multi-layer Perceptron\n",
    "\n",
    "For Multi-layer Perceptron, first you will be implementing your own articial Neural network, and then compare it with sklearn's MLP layer.\n",
    "\n",
    "\n",
    "Implement your own artificial Neural Network (MLP)\n",
    "Few Steps to be followed(for your reference):\n",
    "\n",
    "*   Initialise the weights randomly\n",
    "*   Decide upon the number of layers you wanna have and number of neurons associated in each layer. ( Have a clear idea of what will be the size of the weight matrices).\n",
    "*   Write the code for forward and backward propogations\n",
    "*   Decide upon the loss function\n",
    "*   Train the model\n",
    "*   Predict the labels after training the model\n",
    "\n",
    "\n"
   ]
  },
  {
   "cell_type": "code",
   "execution_count": null,
   "metadata": {
    "id": "qudVxLAjzM19"
   },
   "outputs": [],
   "source": [
    "# you can remove returns statements if u think they are not required\n",
    "# you can also add functions if needed\n",
    "\n",
    "def initialise_weights():\n",
    "  return\n",
    "  \n",
    "\n",
    "def loss_function():\n",
    "  return \n",
    "\n",
    "\n",
    "def forward_layer():\n",
    "  return \n",
    "\n",
    "\n",
    "def backward_propogation():\n",
    "  return \n",
    "\n",
    "\n"
   ]
  },
  {
   "cell_type": "code",
   "execution_count": null,
   "metadata": {
    "id": "t5kgWuGazMzc"
   },
   "outputs": [],
   "source": [
    "def train():\n",
    "  "
   ]
  },
  {
   "cell_type": "code",
   "execution_count": null,
   "metadata": {
    "id": "GuHKjRN4Hqc7"
   },
   "outputs": [],
   "source": [
    "#report accuracies\n",
    "#here, you need to predict for each of the label as we have trained classifiers in such a way\n",
    "\n",
    "def predict():\n",
    "\n",
    "\n"
   ]
  },
  {
   "cell_type": "code",
   "execution_count": null,
   "metadata": {
    "id": "LedEtOXvH8IP"
   },
   "outputs": [],
   "source": [
    "#report accuracies on the test dataset \n",
    "\n",
    "\n",
    "\n"
   ]
  },
  {
   "cell_type": "markdown",
   "metadata": {
    "id": "M9BxRHWEH7CE"
   },
   "source": [
    "Now, compare your implemented MLP with the sklearn MLP layer."
   ]
  },
  {
   "cell_type": "code",
   "execution_count": null,
   "metadata": {
    "id": "U-FZgOy8IL4z"
   },
   "outputs": [],
   "source": [
    "#report accuracies both on train dataset and test dataset\n",
    "\n",
    "from sklearn.neural_network import MLPClassifier\n",
    "\n"
   ]
  },
  {
   "cell_type": "markdown",
   "metadata": {
    "id": "CVJdZaYCPYQK"
   },
   "source": [
    "Which MLP performed better? \n",
    "Understand and Analyse."
   ]
  }
 ],
 "metadata": {
  "colab": {
   "name": "Know the hatred!.ipynb",
   "provenance": []
  },
  "kernelspec": {
   "display_name": "Python 3",
   "language": "python",
   "name": "python3"
  },
  "language_info": {
   "codemirror_mode": {
    "name": "ipython",
    "version": 3
   },
   "file_extension": ".py",
   "mimetype": "text/x-python",
   "name": "python",
   "nbconvert_exporter": "python",
   "pygments_lexer": "ipython3",
   "version": "3.8.12"
  }
 },
 "nbformat": 4,
 "nbformat_minor": 1
}
