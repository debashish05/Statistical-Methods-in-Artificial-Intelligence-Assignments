{
  "cells": [
    {
      "cell_type": "markdown",
      "id": "5b7c2e76",
      "metadata": {
        "id": "5b7c2e76"
      },
      "source": [
        "# Assignment 3\n",
        "\n",
        "## Instructions\n",
        "- Run this notebook on ```Google Colab(preferable)```\n",
        "- Write your code and analysis in the indicated cells.\n",
        "- Ensure that this notebook runs without errors when the cells are run in sequence.\n",
        "- Do not attempt to change the contents of other cells. \n",
        "\n",
        "## Packages Used\n",
        "- Keras [link](https://keras.io/guides/)\n",
        "\n",
        "## Submission\n",
        "- Rename the notebook to `<roll_number>_Assignment3_Q1.ipynb`."
      ]
    },
    {
      "cell_type": "markdown",
      "id": "81a04618",
      "metadata": {
        "id": "81a04618"
      },
      "source": [
        "## Question 1"
      ]
    },
    {
      "cell_type": "markdown",
      "id": "b7be834e",
      "metadata": {
        "id": "b7be834e"
      },
      "source": [
        "This question is based on seminal work by Zhang et al. The paper is titled 'Understanding deep learning requires rethinking generalization'. The paper talks about how the traditional methods fail to explain generalization of neural network. They show that a sufficiently parameterized network can easily fit a random labeling of the training data. This fitting cannot be curbed by explicit regularization.\n"
      ]
    },
    {
      "cell_type": "markdown",
      "id": "c1082657",
      "metadata": {
        "id": "c1082657"
      },
      "source": [
        "## Q) 1.1 \n",
        "Lets take a hello world dataset for ML algorithm the MNIST!\n",
        "This question requires you to train a convolutional neural network.\n",
        "Architecture: 4 layers of convolution with 64 filters in each layer. Keep activation map size same using padding."
      ]
    },
    {
      "cell_type": "code",
      "execution_count": null,
      "id": "d93211d0",
      "metadata": {
        "id": "d93211d0"
      },
      "outputs": [],
      "source": [
        "from tensorflow import keras   # feel free to use MNIST data from other sources \n",
        "import numpy as np\n",
        "from tensorflow.keras.models import Sequential\n",
        "import tensorflow.keras.layers as layers\n",
        "import matplotlib.pyplot as plt\n",
        "import random "
      ]
    },
    {
      "cell_type": "code",
      "execution_count": null,
      "id": "c4301e9e",
      "metadata": {
        "id": "c4301e9e"
      },
      "outputs": [],
      "source": [
        "(x_train, y_train), (x_test, y_test) = keras.datasets.mnist.load_data()"
      ]
    },
    {
      "cell_type": "code",
      "execution_count": null,
      "id": "8f8db95a",
      "metadata": {
        "colab": {
          "base_uri": "https://localhost:8080/"
        },
        "id": "8f8db95a",
        "outputId": "ae738f18-dcca-44e0-a1ea-76ecc471bc9c"
      },
      "outputs": [
        {
          "output_type": "stream",
          "name": "stdout",
          "text": [
            "Train data shape: (60000, 28, 28, 1)\n",
            "60000 train samples\n",
            "10000 test samples\n"
          ]
        }
      ],
      "source": [
        "x_train = x_train.astype(\"float32\") / 255\n",
        "x_test = x_test.astype(\"float32\") / 255\n",
        "\n",
        "x_train = np.expand_dims(x_train, -1)\n",
        "x_test = np.expand_dims(x_test, -1)\n",
        "\n",
        "print(\"Train data shape:\", x_train.shape)\n",
        "print(x_train.shape[0], \"train samples\")\n",
        "print(x_test.shape[0], \"test samples\")"
      ]
    },
    {
      "cell_type": "markdown",
      "id": "c2f5bafd",
      "metadata": {
        "id": "c2f5bafd"
      },
      "source": [
        "#### One-hot-encode your labels here"
      ]
    },
    {
      "cell_type": "code",
      "execution_count": null,
      "id": "73520c0c",
      "metadata": {
        "colab": {
          "base_uri": "https://localhost:8080/"
        },
        "id": "73520c0c",
        "outputId": "d1defc7c-217c-43b8-d105-8b36294f60ea"
      },
      "outputs": [
        {
          "output_type": "stream",
          "name": "stdout",
          "text": [
            "label shape:  (60000,) (10000,)\n",
            "label shape:  (60000, 10) (10000, 10)\n"
          ]
        }
      ],
      "source": [
        "print ('label shape: ',np.shape(y_train),np.shape(y_test))\n",
        "def encode(y):\n",
        "    \n",
        "    a = np.zeros(shape=(len(y),10),dtype=int)\n",
        "    for i in range(len(y)):\n",
        "        a[i][y[i]]=1\n",
        "    return a\n",
        "\n",
        "\n",
        "y_train = encode(y_train)\n",
        "y_test = encode(y_test)\n",
        "print ('label shape: ',np.shape(y_train),np.shape(y_test))"
      ]
    },
    {
      "cell_type": "markdown",
      "id": "38b8a6fa",
      "metadata": {
        "id": "38b8a6fa"
      },
      "source": [
        "#### Define the model mentioned above\n",
        "    1) Print the number of trainable parameters\n",
        "     Use sgd optimizer with softmax at last layer \n",
        "     Train the model until convergence (use test data only for model selection and early stopping!)\n",
        "    2) Report the train and test accuracy\n",
        "    3) Plot the train and test accuracy and loss throughout the training"
      ]
    },
    {
      "cell_type": "code",
      "execution_count": null,
      "id": "novel-gambling",
      "metadata": {
        "id": "novel-gambling"
      },
      "outputs": [],
      "source": [
        "#hyperparameters\n",
        "num_cov=4\n",
        "layer=64\n",
        "num_classes=10\n",
        "epoch=6\n",
        "batch_size=16\n",
        "\n",
        "#model\n",
        "def model(x_train,y_train,x_test,y_test):\n",
        "\n",
        "\n",
        "\tcnnModel = keras.Sequential(\n",
        "    \t[\n",
        "        \tkeras.Input(shape=(28,28,1)),\n",
        "        \tlayers.Conv2D(layer, (3, 3), activation='relu', input_shape=(28, 28, 1),padding=\"same\"),\n",
        "        \tlayers.Conv2D(layer, (3, 3), activation='relu',padding=\"same\"),\n",
        "        \tlayers.Conv2D(layer, (3, 3), activation='relu',padding=\"same\"),\n",
        "        \tlayers.Conv2D(layer, (3, 3), activation='relu',padding=\"same\"),\n",
        "        \tlayers.Flatten(),\n",
        "        \tlayers.Dropout(0.5),\n",
        "        \tlayers.Dense(num_classes, activation=\"softmax\"),\n",
        "    \t]\n",
        "\t)\n",
        "\tcallback = keras.callbacks.EarlyStopping(monitor='loss', patience=2)\t#after 2 epoch training will stop\n",
        "\tcnnModel.summary()\n",
        "\tcnnModel.compile()\n",
        "\tcnnModel.compile(optimizer=\"sgd\", loss='categorical_crossentropy',metrics=['accuracy'])\n",
        "\treturn cnnModel.fit(x_train,y_train, epochs=epoch, batch_size=batch_size, shuffle=True,validation_data=(x_test,y_test),callbacks=[callback])\n"
      ]
    },
    {
      "cell_type": "code",
      "source": [
        "def plot(results):\n",
        "\n",
        "  figure, axis = plt.subplots(1,2)\n",
        "  axis[0].plot(results.history['accuracy'])\n",
        "  axis[0].plot(results.history['val_accuracy'])\n",
        "  axis[0].set_xlabel(\"Epoch Number\")\n",
        "  axis[0].set_ylabel(\"Accuracy\")\n",
        "  axis[0].set_title(\"Epoch vs accuracy\")\n",
        "\n",
        "  axis[1].plot(results.history['loss'])\n",
        "  axis[1].plot(results.history['val_loss'])\n",
        "  axis[1].set_xlabel(\"Epoch Number\")\n",
        "  axis[1].set_ylabel(\"Loss\")\n",
        "  axis[1].set_title(\"Epoch vs Loss\")\n",
        "\n",
        "\n",
        "\n",
        "cnnModel=model(x_train,y_train,x_test,y_test)\n",
        "plot(cnnModel)"
      ],
      "metadata": {
        "colab": {
          "base_uri": "https://localhost:8080/",
          "height": 903
        },
        "id": "nLHWgkvuqqiq",
        "outputId": "b9363904-6376-40ac-9593-b267283fc9df"
      },
      "id": "nLHWgkvuqqiq",
      "execution_count": null,
      "outputs": [
        {
          "output_type": "stream",
          "name": "stdout",
          "text": [
            "Model: \"sequential\"\n",
            "_________________________________________________________________\n",
            " Layer (type)                Output Shape              Param #   \n",
            "=================================================================\n",
            " conv2d (Conv2D)             (None, 28, 28, 64)        640       \n",
            "                                                                 \n",
            " conv2d_1 (Conv2D)           (None, 28, 28, 64)        36928     \n",
            "                                                                 \n",
            " conv2d_2 (Conv2D)           (None, 28, 28, 64)        36928     \n",
            "                                                                 \n",
            " conv2d_3 (Conv2D)           (None, 28, 28, 64)        36928     \n",
            "                                                                 \n",
            " flatten (Flatten)           (None, 50176)             0         \n",
            "                                                                 \n",
            " dropout (Dropout)           (None, 50176)             0         \n",
            "                                                                 \n",
            " dense (Dense)               (None, 10)                501770    \n",
            "                                                                 \n",
            "=================================================================\n",
            "Total params: 613,194\n",
            "Trainable params: 613,194\n",
            "Non-trainable params: 0\n",
            "_________________________________________________________________\n",
            "Epoch 1/6\n",
            "3750/3750 [==============================] - 57s 15ms/step - loss: 0.2673 - accuracy: 0.9191 - val_loss: 0.0795 - val_accuracy: 0.9751\n",
            "Epoch 2/6\n",
            "3750/3750 [==============================] - 51s 14ms/step - loss: 0.0817 - accuracy: 0.9750 - val_loss: 0.0453 - val_accuracy: 0.9867\n",
            "Epoch 3/6\n",
            "3750/3750 [==============================] - 51s 14ms/step - loss: 0.0590 - accuracy: 0.9813 - val_loss: 0.0429 - val_accuracy: 0.9859\n",
            "Epoch 4/6\n",
            "3750/3750 [==============================] - 51s 14ms/step - loss: 0.0471 - accuracy: 0.9854 - val_loss: 0.0389 - val_accuracy: 0.9869\n",
            "Epoch 5/6\n",
            "3750/3750 [==============================] - 51s 13ms/step - loss: 0.0383 - accuracy: 0.9878 - val_loss: 0.0397 - val_accuracy: 0.9876\n",
            "Epoch 6/6\n",
            "3750/3750 [==============================] - 51s 14ms/step - loss: 0.0336 - accuracy: 0.9896 - val_loss: 0.0338 - val_accuracy: 0.9887\n"
          ]
        },
        {
          "output_type": "display_data",
          "data": {
            "text/plain": [
              "<Figure size 432x288 with 2 Axes>"
            ],
            "image/png": "[encoded data removed]"
          },
          "metadata": {
            "needs_background": "light"
          }
        }
      ]
    },
    {
      "cell_type": "markdown",
      "id": "003189e1",
      "metadata": {
        "id": "003189e1"
      },
      "source": [
        "## Q) 1.2\n",
        "Now lets start adding label noise to the dataset\n"
      ]
    },
    {
      "cell_type": "markdown",
      "id": "fc09bd79",
      "metadata": {
        "id": "fc09bd79"
      },
      "source": [
        "1) Randomize 20% of train labels and repeat Q1 (1,2 & 3)\n",
        "\n",
        "2) Randomize 40% of train labels and repeat Q1 (3)\n",
        "\n",
        "3) Randomize 60% of train labels and repeat Q1 (3)\n",
        "\n",
        "4) Randomize 80% of train labels and repeat Q1 (3)\n",
        "\n",
        "5) Randomize 100% of train labels and repeat Q1 (3)\n"
      ]
    },
    {
      "cell_type": "code",
      "execution_count": null,
      "id": "4204eb72",
      "metadata": {
        "id": "4204eb72"
      },
      "outputs": [],
      "source": [
        "\n",
        "def randomizeData(y,percent):\n",
        "  for i in range(int(len(y)*percent)):\n",
        "    y[i]=np.zeros(10)\n",
        "    idx=random.randint(0, 9)\n",
        "    y[i][idx]=1\n",
        "  return y\n",
        "\n"
      ]
    },
    {
      "cell_type": "code",
      "source": [
        "newy_train=randomizeData(np.array(y_train, copy=True) ,0.20)\n",
        "cnnModel=model(x_train,newy_train,x_test,y_test)\n",
        "plot(cnnModel)"
      ],
      "metadata": {
        "colab": {
          "base_uri": "https://localhost:8080/",
          "height": 903
        },
        "id": "_eVRyD2Z16gW",
        "outputId": "57fdb399-bb02-48ec-cc5d-4291c5392979"
      },
      "id": "_eVRyD2Z16gW",
      "execution_count": null,
      "outputs": [
        {
          "output_type": "stream",
          "name": "stdout",
          "text": [
            "Model: \"sequential_1\"\n",
            "_________________________________________________________________\n",
            " Layer (type)                Output Shape              Param #   \n",
            "=================================================================\n",
            " conv2d_4 (Conv2D)           (None, 28, 28, 64)        640       \n",
            "                                                                 \n",
            " conv2d_5 (Conv2D)           (None, 28, 28, 64)        36928     \n",
            "                                                                 \n",
            " conv2d_6 (Conv2D)           (None, 28, 28, 64)        36928     \n",
            "                                                                 \n",
            " conv2d_7 (Conv2D)           (None, 28, 28, 64)        36928     \n",
            "                                                                 \n",
            " flatten_1 (Flatten)         (None, 50176)             0         \n",
            "                                                                 \n",
            " dropout_1 (Dropout)         (None, 50176)             0         \n",
            "                                                                 \n",
            " dense_1 (Dense)             (None, 10)                501770    \n",
            "                                                                 \n",
            "=================================================================\n",
            "Total params: 613,194\n",
            "Trainable params: 613,194\n",
            "Non-trainable params: 0\n",
            "_________________________________________________________________\n",
            "Epoch 1/6\n",
            "3750/3750 [==============================] - 51s 14ms/step - loss: 1.1545 - accuracy: 0.7425 - val_loss: 0.3671 - val_accuracy: 0.9673\n",
            "Epoch 2/6\n",
            "3750/3750 [==============================] - 50s 13ms/step - loss: 1.0082 - accuracy: 0.7934 - val_loss: 0.2768 - val_accuracy: 0.9784\n",
            "Epoch 3/6\n",
            "3750/3750 [==============================] - 53s 14ms/step - loss: 0.9787 - accuracy: 0.7992 - val_loss: 0.2725 - val_accuracy: 0.9814\n",
            "Epoch 4/6\n",
            "3750/3750 [==============================] - 54s 14ms/step - loss: 0.9607 - accuracy: 0.8023 - val_loss: 0.3559 - val_accuracy: 0.9801\n",
            "Epoch 5/6\n",
            "3750/3750 [==============================] - 54s 14ms/step - loss: 0.9469 - accuracy: 0.8034 - val_loss: 0.2925 - val_accuracy: 0.9810\n",
            "Epoch 6/6\n",
            "3750/3750 [==============================] - 51s 14ms/step - loss: 0.9361 - accuracy: 0.8051 - val_loss: 0.2754 - val_accuracy: 0.9840\n"
          ]
        },
        {
          "output_type": "display_data",
          "data": {
            "text/plain": [
              "<Figure size 432x288 with 2 Axes>"
            ],
            "image/png": "[encoded data removed]"
          },
          "metadata": {
            "needs_background": "light"
          }
        }
      ]
    },
    {
      "cell_type": "code",
      "source": [
        "newy_train=randomizeData(np.array(y_train, copy=True) ,0.40)\n",
        "cnnModel=model(x_train,newy_train,x_test,y_test)\n",
        "plot(cnnModel)"
      ],
      "metadata": {
        "colab": {
          "base_uri": "https://localhost:8080/",
          "height": 903
        },
        "id": "SXPfLIDZvqZ3",
        "outputId": "bbe2f8d5-aea1-4051-a163-b387482ac419"
      },
      "id": "SXPfLIDZvqZ3",
      "execution_count": null,
      "outputs": [
        {
          "output_type": "stream",
          "name": "stdout",
          "text": [
            "Model: \"sequential_2\"\n",
            "_________________________________________________________________\n",
            " Layer (type)                Output Shape              Param #   \n",
            "=================================================================\n",
            " conv2d_8 (Conv2D)           (None, 28, 28, 64)        640       \n",
            "                                                                 \n",
            " conv2d_9 (Conv2D)           (None, 28, 28, 64)        36928     \n",
            "                                                                 \n",
            " conv2d_10 (Conv2D)          (None, 28, 28, 64)        36928     \n",
            "                                                                 \n",
            " conv2d_11 (Conv2D)          (None, 28, 28, 64)        36928     \n",
            "                                                                 \n",
            " flatten_2 (Flatten)         (None, 50176)             0         \n",
            "                                                                 \n",
            " dropout_2 (Dropout)         (None, 50176)             0         \n",
            "                                                                 \n",
            " dense_2 (Dense)             (None, 10)                501770    \n",
            "                                                                 \n",
            "=================================================================\n",
            "Total params: 613,194\n",
            "Trainable params: 613,194\n",
            "Non-trainable params: 0\n",
            "_________________________________________________________________\n",
            "Epoch 1/6\n",
            "3750/3750 [==============================] - 51s 14ms/step - loss: 1.6829 - accuracy: 0.5618 - val_loss: 0.6866 - val_accuracy: 0.9548\n",
            "Epoch 2/6\n",
            "3750/3750 [==============================] - 50s 13ms/step - loss: 1.5667 - accuracy: 0.6116 - val_loss: 0.6266 - val_accuracy: 0.9688\n",
            "Epoch 3/6\n",
            "3750/3750 [==============================] - 50s 13ms/step - loss: 1.5393 - accuracy: 0.6184 - val_loss: 0.6913 - val_accuracy: 0.9744\n",
            "Epoch 4/6\n",
            "3750/3750 [==============================] - 53s 14ms/step - loss: 1.5244 - accuracy: 0.6216 - val_loss: 0.6916 - val_accuracy: 0.9771\n",
            "Epoch 5/6\n",
            "3750/3750 [==============================] - 50s 13ms/step - loss: 1.5120 - accuracy: 0.6235 - val_loss: 0.5527 - val_accuracy: 0.9762\n",
            "Epoch 6/6\n",
            "3750/3750 [==============================] - 53s 14ms/step - loss: 1.5006 - accuracy: 0.6249 - val_loss: 0.6114 - val_accuracy: 0.9775\n"
          ]
        },
        {
          "output_type": "display_data",
          "data": {
            "text/plain": [
              "<Figure size 432x288 with 2 Axes>"
            ],
            "image/png": "[encoded data removed]"
          },
          "metadata": {
            "needs_background": "light"
          }
        }
      ]
    },
    {
      "cell_type": "code",
      "source": [
        "newy_train=randomizeData(np.array(y_train, copy=True) ,0.60)\n",
        "cnnModel=model(x_train,newy_train,x_test,y_test)\n",
        "plot(cnnModel)"
      ],
      "metadata": {
        "colab": {
          "base_uri": "https://localhost:8080/",
          "height": 903
        },
        "id": "4fp2pBum07gB",
        "outputId": "90c8a334-3348-4fc2-8b1a-1652b9ddae12"
      },
      "id": "4fp2pBum07gB",
      "execution_count": null,
      "outputs": [
        {
          "output_type": "stream",
          "name": "stdout",
          "text": [
            "Model: \"sequential_3\"\n",
            "_________________________________________________________________\n",
            " Layer (type)                Output Shape              Param #   \n",
            "=================================================================\n",
            " conv2d_12 (Conv2D)          (None, 28, 28, 64)        640       \n",
            "                                                                 \n",
            " conv2d_13 (Conv2D)          (None, 28, 28, 64)        36928     \n",
            "                                                                 \n",
            " conv2d_14 (Conv2D)          (None, 28, 28, 64)        36928     \n",
            "                                                                 \n",
            " conv2d_15 (Conv2D)          (None, 28, 28, 64)        36928     \n",
            "                                                                 \n",
            " flatten_3 (Flatten)         (None, 50176)             0         \n",
            "                                                                 \n",
            " dropout_3 (Dropout)         (None, 50176)             0         \n",
            "                                                                 \n",
            " dense_3 (Dense)             (None, 10)                501770    \n",
            "                                                                 \n",
            "=================================================================\n",
            "Total params: 613,194\n",
            "Trainable params: 613,194\n",
            "Non-trainable params: 0\n",
            "_________________________________________________________________\n",
            "Epoch 1/6\n",
            "3750/3750 [==============================] - 55s 14ms/step - loss: 2.0251 - accuracy: 0.3968 - val_loss: 1.0577 - val_accuracy: 0.9426\n",
            "Epoch 2/6\n",
            "3750/3750 [==============================] - 50s 13ms/step - loss: 1.9578 - accuracy: 0.4359 - val_loss: 0.9926 - val_accuracy: 0.9528\n",
            "Epoch 3/6\n",
            "3750/3750 [==============================] - 53s 14ms/step - loss: 1.9383 - accuracy: 0.4418 - val_loss: 0.9478 - val_accuracy: 0.9598\n",
            "Epoch 4/6\n",
            "3750/3750 [==============================] - 51s 13ms/step - loss: 1.9271 - accuracy: 0.4444 - val_loss: 0.9902 - val_accuracy: 0.9663\n",
            "Epoch 5/6\n",
            "3750/3750 [==============================] - 50s 13ms/step - loss: 1.9178 - accuracy: 0.4459 - val_loss: 1.0358 - val_accuracy: 0.9672\n",
            "Epoch 6/6\n",
            "3750/3750 [==============================] - 53s 14ms/step - loss: 1.9104 - accuracy: 0.4469 - val_loss: 0.9146 - val_accuracy: 0.9674\n"
          ]
        },
        {
          "output_type": "display_data",
          "data": {
            "text/plain": [
              "<Figure size 432x288 with 2 Axes>"
            ],
            "image/png": "[encoded data removed]"
          },
          "metadata": {
            "needs_background": "light"
          }
        }
      ]
    },
    {
      "cell_type": "code",
      "source": [
        "newy_train=randomizeData(np.array(y_train, copy=True) ,0.80)\n",
        "cnnModel=model(x_train,newy_train,x_test,y_test)\n",
        "plot(cnnModel)"
      ],
      "metadata": {
        "colab": {
          "base_uri": "https://localhost:8080/",
          "height": 903
        },
        "id": "Fj60uSmn09Uu",
        "outputId": "af5d3727-8f09-43e2-8275-89e722c80fd5"
      },
      "id": "Fj60uSmn09Uu",
      "execution_count": null,
      "outputs": [
        {
          "output_type": "stream",
          "name": "stdout",
          "text": [
            "Model: \"sequential_4\"\n",
            "_________________________________________________________________\n",
            " Layer (type)                Output Shape              Param #   \n",
            "=================================================================\n",
            " conv2d_16 (Conv2D)          (None, 28, 28, 64)        640       \n",
            "                                                                 \n",
            " conv2d_17 (Conv2D)          (None, 28, 28, 64)        36928     \n",
            "                                                                 \n",
            " conv2d_18 (Conv2D)          (None, 28, 28, 64)        36928     \n",
            "                                                                 \n",
            " conv2d_19 (Conv2D)          (None, 28, 28, 64)        36928     \n",
            "                                                                 \n",
            " flatten_4 (Flatten)         (None, 50176)             0         \n",
            "                                                                 \n",
            " dropout_4 (Dropout)         (None, 50176)             0         \n",
            "                                                                 \n",
            " dense_4 (Dense)             (None, 10)                501770    \n",
            "                                                                 \n",
            "=================================================================\n",
            "Total params: 613,194\n",
            "Trainable params: 613,194\n",
            "Non-trainable params: 0\n",
            "_________________________________________________________________\n",
            "Epoch 1/6\n",
            "3750/3750 [==============================] - 52s 14ms/step - loss: 2.2381 - accuracy: 0.2325 - val_loss: 1.5076 - val_accuracy: 0.8736\n",
            "Epoch 2/6\n",
            "3750/3750 [==============================] - 50s 13ms/step - loss: 2.2096 - accuracy: 0.2598 - val_loss: 1.5854 - val_accuracy: 0.9153\n",
            "Epoch 3/6\n",
            "3750/3750 [==============================] - 50s 13ms/step - loss: 2.1998 - accuracy: 0.2632 - val_loss: 1.5219 - val_accuracy: 0.9288\n",
            "Epoch 4/6\n",
            "3750/3750 [==============================] - 50s 13ms/step - loss: 2.1933 - accuracy: 0.2672 - val_loss: 1.4757 - val_accuracy: 0.9371\n",
            "Epoch 5/6\n",
            "3750/3750 [==============================] - 51s 14ms/step - loss: 2.1863 - accuracy: 0.2677 - val_loss: 1.5325 - val_accuracy: 0.9412\n",
            "Epoch 6/6\n",
            "3750/3750 [==============================] - 50s 13ms/step - loss: 2.1798 - accuracy: 0.2689 - val_loss: 1.4815 - val_accuracy: 0.9416\n"
          ]
        },
        {
          "output_type": "display_data",
          "data": {
            "text/plain": [
              "<Figure size 432x288 with 2 Axes>"
            ],
            "image/png": "[encoded data removed]"
          },
          "metadata": {
            "needs_background": "light"
          }
        }
      ]
    },
    {
      "cell_type": "code",
      "source": [
        "newy_train=randomizeData(np.array(y_train, copy=True) ,1)\n",
        "cnnModel=model(x_train,newy_train,x_test,y_test)\n",
        "plot(cnnModel)"
      ],
      "metadata": {
        "colab": {
          "base_uri": "https://localhost:8080/",
          "height": 903
        },
        "id": "-2eY8-gp0EGa",
        "outputId": "b61fc4a1-3a56-437f-8063-bf561fcab58c"
      },
      "id": "-2eY8-gp0EGa",
      "execution_count": null,
      "outputs": [
        {
          "output_type": "stream",
          "name": "stdout",
          "text": [
            "Model: \"sequential_5\"\n",
            "_________________________________________________________________\n",
            " Layer (type)                Output Shape              Param #   \n",
            "=================================================================\n",
            " conv2d_20 (Conv2D)          (None, 28, 28, 64)        640       \n",
            "                                                                 \n",
            " conv2d_21 (Conv2D)          (None, 28, 28, 64)        36928     \n",
            "                                                                 \n",
            " conv2d_22 (Conv2D)          (None, 28, 28, 64)        36928     \n",
            "                                                                 \n",
            " conv2d_23 (Conv2D)          (None, 28, 28, 64)        36928     \n",
            "                                                                 \n",
            " flatten_5 (Flatten)         (None, 50176)             0         \n",
            "                                                                 \n",
            " dropout_5 (Dropout)         (None, 50176)             0         \n",
            "                                                                 \n",
            " dense_5 (Dense)             (None, 10)                501770    \n",
            "                                                                 \n",
            "=================================================================\n",
            "Total params: 613,194\n",
            "Trainable params: 613,194\n",
            "Non-trainable params: 0\n",
            "_________________________________________________________________\n",
            "Epoch 1/6\n",
            "3750/3750 [==============================] - 54s 14ms/step - loss: 2.3029 - accuracy: 0.0991 - val_loss: 2.3022 - val_accuracy: 0.1059\n",
            "Epoch 2/6\n",
            "3750/3750 [==============================] - 55s 15ms/step - loss: 2.3027 - accuracy: 0.1006 - val_loss: 2.3002 - val_accuracy: 0.1444\n",
            "Epoch 3/6\n",
            "3750/3750 [==============================] - 53s 14ms/step - loss: 2.3025 - accuracy: 0.1011 - val_loss: 2.2976 - val_accuracy: 0.1171\n",
            "Epoch 4/6\n",
            "3750/3750 [==============================] - 51s 14ms/step - loss: 2.3020 - accuracy: 0.1055 - val_loss: 2.2922 - val_accuracy: 0.1192\n",
            "Epoch 5/6\n",
            "3750/3750 [==============================] - 55s 15ms/step - loss: 2.3014 - accuracy: 0.1081 - val_loss: 2.2844 - val_accuracy: 0.2134\n",
            "Epoch 6/6\n",
            "3750/3750 [==============================] - 55s 15ms/step - loss: 2.3005 - accuracy: 0.1118 - val_loss: 2.2852 - val_accuracy: 0.1234\n"
          ]
        },
        {
          "output_type": "display_data",
          "data": {
            "text/plain": [
              "<Figure size 432x288 with 2 Axes>"
            ],
            "image/png": "[encoded data removed]"
          },
          "metadata": {
            "needs_background": "light"
          }
        }
      ]
    },
    {
      "cell_type": "code",
      "source": [
        ""
      ],
      "metadata": {
        "id": "ag4W9kU61O0j"
      },
      "id": "ag4W9kU61O0j",
      "execution_count": null,
      "outputs": []
    }
  ],
  "metadata": {
    "kernelspec": {
      "display_name": "Python 3",
      "language": "python",
      "name": "python3"
    },
    "language_info": {
      "codemirror_mode": {
        "name": "ipython",
        "version": 3
      },
      "file_extension": ".py",
      "mimetype": "text/x-python",
      "name": "python",
      "nbconvert_exporter": "python",
      "pygments_lexer": "ipython3",
      "version": "3.8.5"
    },
    "colab": {
      "name": "2021201034_Assignment3_Q1.ipynb",
      "provenance": [],
      "collapsed_sections": []
    },
    "accelerator": "GPU"
  },
  "nbformat": 4,
  "nbformat_minor": 5
}